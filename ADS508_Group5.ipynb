{
  "nbformat": 4,
  "nbformat_minor": 0,
  "metadata": {
    "colab": {
      "name": "ADS508-Group5.ipynb",
      "provenance": [],
      "include_colab_link": true
    },
    "kernelspec": {
      "name": "python3",
      "display_name": "Python 3"
    },
    "language_info": {
      "name": "python"
    }
  },
  "cells": [
    {
      "cell_type": "markdown",
      "metadata": {
        "id": "view-in-github",
        "colab_type": "text"
      },
      "source": [
        "<a href=\"https://colab.research.google.com/github/OscarG-DataSci/ADS508/blob/colab/ADS508_Group5.ipynb\" target=\"_parent\"><img src=\"https://colab.research.google.com/assets/colab-badge.svg\" alt=\"Open In Colab\"/></a>"
      ]
    },
    {
      "cell_type": "code",
      "execution_count": null,
      "metadata": {
        "id": "oIGKSbh9ZDca"
      },
      "outputs": [],
      "source": [
        "import pandas as pd\n",
        "import seaborn as sns\n",
        "import matplotlib.pyplot as plt\n",
        "import boto3\n",
        "import boto3.session\n",
        "import sagemaker\n",
        "import os"
      ]
    },
    {
      "cell_type": "code",
      "source": [
        "!aws s3 ls s3://ads508teamproject"
      ],
      "metadata": {
        "colab": {
          "base_uri": "https://localhost:8080/"
        },
        "id": "HEHjMzL5QKAh",
        "outputId": "f3a795b1-d715-4539-de8f-56ace2535d28"
      },
      "execution_count": null,
      "outputs": [
        {
          "output_type": "stream",
          "name": "stdout",
          "text": [
            "2022-03-17 07:47:05     825534 cyouth_demo_age_20210328.csv\n",
            "2022-03-17 07:47:08    1118781 cyouth_demo_race_20210328.csv\n",
            "2022-03-17 07:47:06     310455 cyouth_demo_sex_20210328.csv\n",
            "2022-03-18 06:47:44   25070533 cyouth_util_age_20210328.csv\n"
          ]
        }
      ]
    },
    {
      "cell_type": "code",
      "source": [
        "sess = boto3.Session(region_name='us-east-1')"
      ],
      "metadata": {
        "id": "u-lehWStJ1mp"
      },
      "execution_count": null,
      "outputs": []
    },
    {
      "cell_type": "code",
      "source": [
        "client = boto3.client('s3')"
      ],
      "metadata": {
        "id": "cvLfILD-NXdP"
      },
      "execution_count": null,
      "outputs": []
    },
    {
      "cell_type": "code",
      "source": [
        "resp = client.list_buckets()\n",
        "resp"
      ],
      "metadata": {
        "id": "jJT_nKxxFZ2E",
        "colab": {
          "base_uri": "https://localhost:8080/"
        },
        "outputId": "511a13bf-962a-497f-c061-a54e01ab2531"
      },
      "execution_count": null,
      "outputs": [
        {
          "output_type": "execute_result",
          "data": {
            "text/plain": [
              "{'Buckets': [{'CreationDate': datetime.datetime(2022, 3, 12, 9, 53, 53, tzinfo=tzlocal()),\n",
              "   'Name': 'ads508teamproject'}],\n",
              " 'Owner': {'DisplayName': 'tlloyd',\n",
              "  'ID': '48f14138b8ccbbc0993dd4b3360b951bc781c4f97d5ca71230c87d4a1d8c4443'},\n",
              " 'ResponseMetadata': {'HTTPHeaders': {'content-type': 'application/xml',\n",
              "   'date': 'Mon, 21 Mar 2022 06:59:48 GMT',\n",
              "   'server': 'AmazonS3',\n",
              "   'transfer-encoding': 'chunked',\n",
              "   'x-amz-id-2': 'QFnqhiDr7iGOpUveJkp6+qpuegmJyvEB1qATRIGjqxd6xMfVrJpjnLV46ACWWfVvUrgXHGF8Ha4=',\n",
              "   'x-amz-request-id': 'F0QH8ADPD09PCTKE'},\n",
              "  'HTTPStatusCode': 200,\n",
              "  'HostId': 'QFnqhiDr7iGOpUveJkp6+qpuegmJyvEB1qATRIGjqxd6xMfVrJpjnLV46ACWWfVvUrgXHGF8Ha4=',\n",
              "  'RequestId': 'F0QH8ADPD09PCTKE',\n",
              "  'RetryAttempts': 0}}"
            ]
          },
          "metadata": {},
          "execution_count": 35
        }
      ]
    },
    {
      "cell_type": "code",
      "source": [
        "s3 = boto3.resource('s3')"
      ],
      "metadata": {
        "id": "GNIW7AF6IKqO"
      },
      "execution_count": null,
      "outputs": []
    },
    {
      "cell_type": "code",
      "source": [
        "list(s3.buckets.all())"
      ],
      "metadata": {
        "colab": {
          "base_uri": "https://localhost:8080/"
        },
        "id": "aYBwrb9UISew",
        "outputId": "6d17929f-e8e9-4e42-a1e4-f927c2563dc3"
      },
      "execution_count": null,
      "outputs": [
        {
          "output_type": "execute_result",
          "data": {
            "text/plain": [
              "[s3.Bucket(name='ads508teamproject')]"
            ]
          },
          "metadata": {},
          "execution_count": 37
        }
      ]
    },
    {
      "cell_type": "code",
      "source": [
        "bucket = s3.Bucket('ads508teamproject')"
      ],
      "metadata": {
        "id": "nKXY2oarFaB7"
      },
      "execution_count": null,
      "outputs": []
    },
    {
      "cell_type": "code",
      "source": [
        "files = list(bucket.objects.all())"
      ],
      "metadata": {
        "id": "h1OqrsfxR6Qy"
      },
      "execution_count": null,
      "outputs": []
    },
    {
      "cell_type": "code",
      "source": [
        "for file in files:\n",
        "    client.download_file('ads508teamproject', file.key, file.key)"
      ],
      "metadata": {
        "id": "amV5vxvoR-Le"
      },
      "execution_count": null,
      "outputs": []
    },
    {
      "cell_type": "code",
      "source": [
        "age = pd.read_csv(files[0].key)\n",
        "demo = pd.read_csv(files[1].key)\n",
        "sex = pd.read_csv(files[2].key)\n",
        "util = pd.read_csv(files[3].key)\n",
        "\n",
        "util.head()"
      ],
      "metadata": {
        "colab": {
          "base_uri": "https://localhost:8080/",
          "height": 241
        },
        "id": "UFLD5DclR6td",
        "outputId": "9d61f401-08ee-4067-c0a6-674ecce2b10e"
      },
      "execution_count": null,
      "outputs": [
        {
          "output_type": "stream",
          "name": "stderr",
          "text": [
            "/usr/local/lib/python3.7/dist-packages/IPython/core/interactiveshell.py:2882: DtypeWarning: Columns (0) have mixed types.Specify dtype option on import or set low_memory=False.\n",
            "  exec(code_obj, self.user_global_ns, self.user_ns)\n"
          ]
        },
        {
          "output_type": "execute_result",
          "data": {
            "text/plain": [
              "  POPULATION_NAME POPULATION_TYPE  FISCAL_YEAR          AGE_GRP  \\\n",
              "0         Alameda              01         2017  A1 Children 0-2   \n",
              "1         Alameda              01         2017  A1 Children 0-2   \n",
              "2         Alameda              01         2017  A1 Children 0-2   \n",
              "3         Alameda              01         2017  A1 Children 0-2   \n",
              "4         Alameda              01         2017  A1 Children 0-2   \n",
              "\n",
              "            SVC_DESC      UNIT_TYPE   AMOUNT  AMOUNT_ANNOT MHS_TYPE  \n",
              "0   ACTIVITY_THERAPY     BENE_COUNT      NaN           1.0      MHS  \n",
              "1   ACTIVITY_THERAPY  TOTAL_MINUTES      NaN           2.0      MHS  \n",
              "2   ADAPT_BHV_TX-QHP     BENE_COUNT     19.0           NaN      MHS  \n",
              "3   ADAPT_BHV_TX-QHP  TOTAL_MINUTES  56370.0           NaN      MHS  \n",
              "4  ADAPT_BHV_TX-TECH     BENE_COUNT     19.0           NaN      MHS  "
            ],
            "text/html": [
              "\n",
              "  <div id=\"df-ec4c96c5-bb74-4b5e-9a2b-6f1b22ad5b4a\">\n",
              "    <div class=\"colab-df-container\">\n",
              "      <div>\n",
              "<style scoped>\n",
              "    .dataframe tbody tr th:only-of-type {\n",
              "        vertical-align: middle;\n",
              "    }\n",
              "\n",
              "    .dataframe tbody tr th {\n",
              "        vertical-align: top;\n",
              "    }\n",
              "\n",
              "    .dataframe thead th {\n",
              "        text-align: right;\n",
              "    }\n",
              "</style>\n",
              "<table border=\"1\" class=\"dataframe\">\n",
              "  <thead>\n",
              "    <tr style=\"text-align: right;\">\n",
              "      <th></th>\n",
              "      <th>POPULATION_NAME</th>\n",
              "      <th>POPULATION_TYPE</th>\n",
              "      <th>FISCAL_YEAR</th>\n",
              "      <th>AGE_GRP</th>\n",
              "      <th>SVC_DESC</th>\n",
              "      <th>UNIT_TYPE</th>\n",
              "      <th>AMOUNT</th>\n",
              "      <th>AMOUNT_ANNOT</th>\n",
              "      <th>MHS_TYPE</th>\n",
              "    </tr>\n",
              "  </thead>\n",
              "  <tbody>\n",
              "    <tr>\n",
              "      <th>0</th>\n",
              "      <td>Alameda</td>\n",
              "      <td>01</td>\n",
              "      <td>2017</td>\n",
              "      <td>A1 Children 0-2</td>\n",
              "      <td>ACTIVITY_THERAPY</td>\n",
              "      <td>BENE_COUNT</td>\n",
              "      <td>NaN</td>\n",
              "      <td>1.0</td>\n",
              "      <td>MHS</td>\n",
              "    </tr>\n",
              "    <tr>\n",
              "      <th>1</th>\n",
              "      <td>Alameda</td>\n",
              "      <td>01</td>\n",
              "      <td>2017</td>\n",
              "      <td>A1 Children 0-2</td>\n",
              "      <td>ACTIVITY_THERAPY</td>\n",
              "      <td>TOTAL_MINUTES</td>\n",
              "      <td>NaN</td>\n",
              "      <td>2.0</td>\n",
              "      <td>MHS</td>\n",
              "    </tr>\n",
              "    <tr>\n",
              "      <th>2</th>\n",
              "      <td>Alameda</td>\n",
              "      <td>01</td>\n",
              "      <td>2017</td>\n",
              "      <td>A1 Children 0-2</td>\n",
              "      <td>ADAPT_BHV_TX-QHP</td>\n",
              "      <td>BENE_COUNT</td>\n",
              "      <td>19.0</td>\n",
              "      <td>NaN</td>\n",
              "      <td>MHS</td>\n",
              "    </tr>\n",
              "    <tr>\n",
              "      <th>3</th>\n",
              "      <td>Alameda</td>\n",
              "      <td>01</td>\n",
              "      <td>2017</td>\n",
              "      <td>A1 Children 0-2</td>\n",
              "      <td>ADAPT_BHV_TX-QHP</td>\n",
              "      <td>TOTAL_MINUTES</td>\n",
              "      <td>56370.0</td>\n",
              "      <td>NaN</td>\n",
              "      <td>MHS</td>\n",
              "    </tr>\n",
              "    <tr>\n",
              "      <th>4</th>\n",
              "      <td>Alameda</td>\n",
              "      <td>01</td>\n",
              "      <td>2017</td>\n",
              "      <td>A1 Children 0-2</td>\n",
              "      <td>ADAPT_BHV_TX-TECH</td>\n",
              "      <td>BENE_COUNT</td>\n",
              "      <td>19.0</td>\n",
              "      <td>NaN</td>\n",
              "      <td>MHS</td>\n",
              "    </tr>\n",
              "  </tbody>\n",
              "</table>\n",
              "</div>\n",
              "      <button class=\"colab-df-convert\" onclick=\"convertToInteractive('df-ec4c96c5-bb74-4b5e-9a2b-6f1b22ad5b4a')\"\n",
              "              title=\"Convert this dataframe to an interactive table.\"\n",
              "              style=\"display:none;\">\n",
              "        \n",
              "  <svg xmlns=\"http://www.w3.org/2000/svg\" height=\"24px\"viewBox=\"0 0 24 24\"\n",
              "       width=\"24px\">\n",
              "    <path d=\"M0 0h24v24H0V0z\" fill=\"none\"/>\n",
              "    <path d=\"M18.56 5.44l.94 2.06.94-2.06 2.06-.94-2.06-.94-.94-2.06-.94 2.06-2.06.94zm-11 1L8.5 8.5l.94-2.06 2.06-.94-2.06-.94L8.5 2.5l-.94 2.06-2.06.94zm10 10l.94 2.06.94-2.06 2.06-.94-2.06-.94-.94-2.06-.94 2.06-2.06.94z\"/><path d=\"M17.41 7.96l-1.37-1.37c-.4-.4-.92-.59-1.43-.59-.52 0-1.04.2-1.43.59L10.3 9.45l-7.72 7.72c-.78.78-.78 2.05 0 2.83L4 21.41c.39.39.9.59 1.41.59.51 0 1.02-.2 1.41-.59l7.78-7.78 2.81-2.81c.8-.78.8-2.07 0-2.86zM5.41 20L4 18.59l7.72-7.72 1.47 1.35L5.41 20z\"/>\n",
              "  </svg>\n",
              "      </button>\n",
              "      \n",
              "  <style>\n",
              "    .colab-df-container {\n",
              "      display:flex;\n",
              "      flex-wrap:wrap;\n",
              "      gap: 12px;\n",
              "    }\n",
              "\n",
              "    .colab-df-convert {\n",
              "      background-color: #E8F0FE;\n",
              "      border: none;\n",
              "      border-radius: 50%;\n",
              "      cursor: pointer;\n",
              "      display: none;\n",
              "      fill: #1967D2;\n",
              "      height: 32px;\n",
              "      padding: 0 0 0 0;\n",
              "      width: 32px;\n",
              "    }\n",
              "\n",
              "    .colab-df-convert:hover {\n",
              "      background-color: #E2EBFA;\n",
              "      box-shadow: 0px 1px 2px rgba(60, 64, 67, 0.3), 0px 1px 3px 1px rgba(60, 64, 67, 0.15);\n",
              "      fill: #174EA6;\n",
              "    }\n",
              "\n",
              "    [theme=dark] .colab-df-convert {\n",
              "      background-color: #3B4455;\n",
              "      fill: #D2E3FC;\n",
              "    }\n",
              "\n",
              "    [theme=dark] .colab-df-convert:hover {\n",
              "      background-color: #434B5C;\n",
              "      box-shadow: 0px 1px 3px 1px rgba(0, 0, 0, 0.15);\n",
              "      filter: drop-shadow(0px 1px 2px rgba(0, 0, 0, 0.3));\n",
              "      fill: #FFFFFF;\n",
              "    }\n",
              "  </style>\n",
              "\n",
              "      <script>\n",
              "        const buttonEl =\n",
              "          document.querySelector('#df-ec4c96c5-bb74-4b5e-9a2b-6f1b22ad5b4a button.colab-df-convert');\n",
              "        buttonEl.style.display =\n",
              "          google.colab.kernel.accessAllowed ? 'block' : 'none';\n",
              "\n",
              "        async function convertToInteractive(key) {\n",
              "          const element = document.querySelector('#df-ec4c96c5-bb74-4b5e-9a2b-6f1b22ad5b4a');\n",
              "          const dataTable =\n",
              "            await google.colab.kernel.invokeFunction('convertToInteractive',\n",
              "                                                     [key], {});\n",
              "          if (!dataTable) return;\n",
              "\n",
              "          const docLinkHtml = 'Like what you see? Visit the ' +\n",
              "            '<a target=\"_blank\" href=https://colab.research.google.com/notebooks/data_table.ipynb>data table notebook</a>'\n",
              "            + ' to learn more about interactive tables.';\n",
              "          element.innerHTML = '';\n",
              "          dataTable['output_type'] = 'display_data';\n",
              "          await google.colab.output.renderOutput(dataTable, element);\n",
              "          const docLink = document.createElement('div');\n",
              "          docLink.innerHTML = docLinkHtml;\n",
              "          element.appendChild(docLink);\n",
              "        }\n",
              "      </script>\n",
              "    </div>\n",
              "  </div>\n",
              "  "
            ]
          },
          "metadata": {},
          "execution_count": 42
        }
      ]
    },
    {
      "cell_type": "code",
      "source": [
        "#Code used before implementation of S3 Bucket via AWS Services\n",
        "\n",
        "\"\"\"\n",
        "url1 = \"https://data.chhs.ca.gov/dataset/8eb607d8-5876-4ee0-a681-c6a03cee4de5/resource/9b4b7b99-96de-4cca-b8ad-992f38f60697/download/cyouth_util_age_20210328.csv\"\n",
        "url2 = \"https://data.chhs.ca.gov/dataset/8eb607d8-5876-4ee0-a681-c6a03cee4de5/resource/1b8821d7-cd56-4fcf-8b15-3cf5d66bdba7/download/cyouth_demo_race_20210328.csv\"\n",
        "url3 = \"https://data.chhs.ca.gov/dataset/8eb607d8-5876-4ee0-a681-c6a03cee4de5/resource/80447662-f12e-44f7-a31c-5768e6917f2e/download/cyouth_dx_age_20210328.csv\"\n",
        "\n",
        "util = pd.read_csv(url1)\n",
        "demo = pd.read_csv(url2)\n",
        "age  = pd.read_csv(url3)\n",
        "\"\"\""
      ],
      "metadata": {
        "id": "4Ift7xcKZJL8"
      },
      "execution_count": null,
      "outputs": []
    },
    {
      "cell_type": "code",
      "source": [
        "# SQLite3 database\n",
        "cnn = sqlite3.connect('sqlite3.db')"
      ],
      "metadata": {
        "id": "y5KR76IwbQfB"
      },
      "execution_count": null,
      "outputs": []
    },
    {
      "cell_type": "code",
      "source": [
        "# Load data sets into SQLite3 database\n",
        "age.to_sql(\"age\", cnn, if_exists='replace')\n",
        "demo.to_sql(\"demo\", cnn, if_exists='replace')\n",
        "sex.to_sql(\"sex\", cnn, if_exists='replace')\n",
        "util.to_sql(\"util\", cnn, if_exists='replace')"
      ],
      "metadata": {
        "id": "9gyu_f2CbS78"
      },
      "execution_count": null,
      "outputs": []
    },
    {
      "cell_type": "code",
      "source": [
        "# Load SQL abilities\n",
        "%load_ext sql\n",
        "%sql sqlite:///sqlite3.db"
      ],
      "metadata": {
        "id": "ll3ulA8XbUcf"
      },
      "execution_count": null,
      "outputs": []
    },
    {
      "cell_type": "code",
      "source": [
        "%%sql\n",
        "\n",
        "with recursive\n",
        "a( FISCAL_YEAR, POPULATION_NAME, MHS_TYPE, GROUP_NAME, GROUP_TOTAL)\n",
        "as(\n",
        "select FISCAL_YEAR, POPULATION_NAME, MHS_TYPE, RACE_GRP AS GROUP_NAME, SUM(CAST(TOTAL_CT AS BIGINT)) AS GROUP_TOTAL\n",
        "from  demo\n",
        "where  (POPULATION_NAME not like '%-%'\n",
        "  and  POPULATION_NAME not like '%(%')\n",
        "  and  POPULATION_NAME not in ('Large Counties', 'Medium Counties', 'Small Counties', 'Statewide')\n",
        "group by FISCAL_YEAR, POPULATION_NAME, MHS_TYPE, RACE_GRP\n",
        "\n",
        "union\n",
        "\n",
        "select FISCAL_YEAR, POPULATION_NAME, MHS_TYPE, SEX, SUM(CAST(TOTAL_CT AS BIGINT)) AS SEX_TOTAL_CT\n",
        "from sex\n",
        "where  (POPULATION_NAME not like '%-%'\n",
        "  and  POPULATION_NAME not like '%(%')\n",
        "  and  POPULATION_NAME not in ('Large Counties', 'Medium Counties', 'Small Counties', 'Statewide')\n",
        "group by FISCAL_YEAR, POPULATION_NAME, MHS_TYPE, SEX\n",
        "\n",
        "union\n",
        "\n",
        "select FISCAL_YEAR, POPULATION_NAME, MHS_TYPE, AGE_GRP, SUM(CAST(TOTAL_CT AS BIGINT)) AS AGE_GRP_TOTAL_CT\n",
        "from age\n",
        "where  (POPULATION_NAME not like '%-%'\n",
        "  and  POPULATION_NAME not like '%(%')\n",
        "  and  POPULATION_NAME not in ('Large Counties', 'Medium Counties', 'Small Counties', 'Statewide')\n",
        "group by FISCAL_YEAR, POPULATION_NAME, MHS_TYPE, AGE_GRP\n",
        ")\n",
        ", b (FISCAL_YEAR, POPULATION_NAME, MHS_TYPE, GROUP_GRAND_TOTAL)\n",
        "as (\n",
        "select FISCAL_YEAR, POPULATION_NAME, MHS_TYPE, SUM(GROUP_TOTAL) AS GROUP_TOTAL\n",
        "from a\n",
        "group by FISCAL_YEAR, POPULATION_NAME, MHS_TYPE\n",
        ")\n",
        "select  a.*\n",
        "  ,     b.GROUP_GRAND_TOTAL\n",
        "  ,     ROUND(cast(a.GROUP_TOTAL as float) / cast(b.GROUP_GRAND_TOTAL as float), 5) as GRP_PCT_BY_YEAR_MHS\n",
        "from  a\n",
        "join  b\n",
        "  on  a.FISCAL_YEAR = b.FISCAL_YEAR\n",
        "  and a.MHS_TYPE = b.MHS_TYPE limit 5;"
      ],
      "metadata": {
        "id": "9NNGpQzXbVzB"
      },
      "execution_count": null,
      "outputs": []
    },
    {
      "cell_type": "code",
      "source": [
        "# SQL results into dataframe\n",
        "\n",
        "query = '''\n",
        "with recursive\n",
        "a( FISCAL_YEAR, POPULATION_NAME, MHS_TYPE, GROUP_NAME, GROUP_TOTAL)\n",
        "as(\n",
        "select FISCAL_YEAR, POPULATION_NAME, MHS_TYPE, RACE_GRP AS GROUP_NAME, SUM(CAST(TOTAL_CT AS BIGINT)) AS GROUP_TOTAL\n",
        "from  demo\n",
        "where  (POPULATION_NAME not like '%-%'\n",
        "  and  POPULATION_NAME not like '%(%')\n",
        "  and  POPULATION_NAME not in ('Large Counties', 'Medium Counties', 'Small Counties', 'Statewide')\n",
        "group by FISCAL_YEAR, POPULATION_NAME, MHS_TYPE, RACE_GRP\n",
        "union\n",
        "select FISCAL_YEAR, POPULATION_NAME, MHS_TYPE, SEX, SUM(CAST(TOTAL_CT AS BIGINT)) AS SEX_TOTAL_CT\n",
        "from sex\n",
        "where  (POPULATION_NAME not like '%-%'\n",
        "  and  POPULATION_NAME not like '%(%')\n",
        "  and  POPULATION_NAME not in ('Large Counties', 'Medium Counties', 'Small Counties', 'Statewide')\n",
        "group by FISCAL_YEAR, POPULATION_NAME, MHS_TYPE, SEX\n",
        "union\n",
        "select FISCAL_YEAR, POPULATION_NAME, MHS_TYPE, AGE_GRP, SUM(CAST(TOTAL_CT AS BIGINT)) AS AGE_GRP_TOTAL_CT\n",
        "from age\n",
        "where  (POPULATION_NAME not like '%-%'\n",
        "  and  POPULATION_NAME not like '%(%')\n",
        "  and  POPULATION_NAME not in ('Large Counties', 'Medium Counties', 'Small Counties', 'Statewide')\n",
        "group by FISCAL_YEAR, POPULATION_NAME, MHS_TYPE, AGE_GRP\n",
        ")\n",
        ", b (FISCAL_YEAR, POPULATION_NAME, MHS_TYPE, GROUP_GRAND_TOTAL)\n",
        "as (\n",
        "select FISCAL_YEAR, POPULATION_NAME, MHS_TYPE, SUM(GROUP_TOTAL) AS GROUP_TOTAL\n",
        "from a\n",
        "group by FISCAL_YEAR, POPULATION_NAME, MHS_TYPE\n",
        ")\n",
        "select  a.*\n",
        "  ,     b.GROUP_GRAND_TOTAL\n",
        "  ,     ROUND(cast(a.GROUP_TOTAL as float) / cast(b.GROUP_GRAND_TOTAL as float), 5) as GRP_PCT_BY_YEAR_MHS\n",
        "from  a\n",
        "join  b\n",
        "  on  a.FISCAL_YEAR = b.FISCAL_YEAR\n",
        "  and a.MHS_TYPE = b.MHS_TYPE\n",
        "'''\n",
        "\n",
        "df = pd.read_sql_query(query,cnn)"
      ],
      "metadata": {
        "id": "ak1buG1vbX7Y"
      },
      "execution_count": null,
      "outputs": []
    },
    {
      "cell_type": "code",
      "source": [
        "util.head(3)"
      ],
      "metadata": {
        "colab": {
          "base_uri": "https://localhost:8080/",
          "height": 143
        },
        "id": "762tiMXpZn9M",
        "outputId": "061dfe8b-47d4-4589-ef73-51baae36059a"
      },
      "execution_count": null,
      "outputs": [
        {
          "output_type": "execute_result",
          "data": {
            "text/plain": [
              "  POPULATION_NAME POPULATION_TYPE  FISCAL_YEAR          AGE_GRP  \\\n",
              "0         Alameda              01         2017  A1 Children 0-2   \n",
              "1         Alameda              01         2017  A1 Children 0-2   \n",
              "2         Alameda              01         2017  A1 Children 0-2   \n",
              "\n",
              "           SVC_DESC      UNIT_TYPE  AMOUNT  AMOUNT_ANNOT MHS_TYPE  \n",
              "0  ACTIVITY_THERAPY     BENE_COUNT     NaN           1.0      MHS  \n",
              "1  ACTIVITY_THERAPY  TOTAL_MINUTES     NaN           2.0      MHS  \n",
              "2  ADAPT_BHV_TX-QHP     BENE_COUNT    19.0           NaN      MHS  "
            ],
            "text/html": [
              "\n",
              "  <div id=\"df-09034610-a5d4-40ed-a0fd-839a4927c55b\">\n",
              "    <div class=\"colab-df-container\">\n",
              "      <div>\n",
              "<style scoped>\n",
              "    .dataframe tbody tr th:only-of-type {\n",
              "        vertical-align: middle;\n",
              "    }\n",
              "\n",
              "    .dataframe tbody tr th {\n",
              "        vertical-align: top;\n",
              "    }\n",
              "\n",
              "    .dataframe thead th {\n",
              "        text-align: right;\n",
              "    }\n",
              "</style>\n",
              "<table border=\"1\" class=\"dataframe\">\n",
              "  <thead>\n",
              "    <tr style=\"text-align: right;\">\n",
              "      <th></th>\n",
              "      <th>POPULATION_NAME</th>\n",
              "      <th>POPULATION_TYPE</th>\n",
              "      <th>FISCAL_YEAR</th>\n",
              "      <th>AGE_GRP</th>\n",
              "      <th>SVC_DESC</th>\n",
              "      <th>UNIT_TYPE</th>\n",
              "      <th>AMOUNT</th>\n",
              "      <th>AMOUNT_ANNOT</th>\n",
              "      <th>MHS_TYPE</th>\n",
              "    </tr>\n",
              "  </thead>\n",
              "  <tbody>\n",
              "    <tr>\n",
              "      <th>0</th>\n",
              "      <td>Alameda</td>\n",
              "      <td>01</td>\n",
              "      <td>2017</td>\n",
              "      <td>A1 Children 0-2</td>\n",
              "      <td>ACTIVITY_THERAPY</td>\n",
              "      <td>BENE_COUNT</td>\n",
              "      <td>NaN</td>\n",
              "      <td>1.0</td>\n",
              "      <td>MHS</td>\n",
              "    </tr>\n",
              "    <tr>\n",
              "      <th>1</th>\n",
              "      <td>Alameda</td>\n",
              "      <td>01</td>\n",
              "      <td>2017</td>\n",
              "      <td>A1 Children 0-2</td>\n",
              "      <td>ACTIVITY_THERAPY</td>\n",
              "      <td>TOTAL_MINUTES</td>\n",
              "      <td>NaN</td>\n",
              "      <td>2.0</td>\n",
              "      <td>MHS</td>\n",
              "    </tr>\n",
              "    <tr>\n",
              "      <th>2</th>\n",
              "      <td>Alameda</td>\n",
              "      <td>01</td>\n",
              "      <td>2017</td>\n",
              "      <td>A1 Children 0-2</td>\n",
              "      <td>ADAPT_BHV_TX-QHP</td>\n",
              "      <td>BENE_COUNT</td>\n",
              "      <td>19.0</td>\n",
              "      <td>NaN</td>\n",
              "      <td>MHS</td>\n",
              "    </tr>\n",
              "  </tbody>\n",
              "</table>\n",
              "</div>\n",
              "      <button class=\"colab-df-convert\" onclick=\"convertToInteractive('df-09034610-a5d4-40ed-a0fd-839a4927c55b')\"\n",
              "              title=\"Convert this dataframe to an interactive table.\"\n",
              "              style=\"display:none;\">\n",
              "        \n",
              "  <svg xmlns=\"http://www.w3.org/2000/svg\" height=\"24px\"viewBox=\"0 0 24 24\"\n",
              "       width=\"24px\">\n",
              "    <path d=\"M0 0h24v24H0V0z\" fill=\"none\"/>\n",
              "    <path d=\"M18.56 5.44l.94 2.06.94-2.06 2.06-.94-2.06-.94-.94-2.06-.94 2.06-2.06.94zm-11 1L8.5 8.5l.94-2.06 2.06-.94-2.06-.94L8.5 2.5l-.94 2.06-2.06.94zm10 10l.94 2.06.94-2.06 2.06-.94-2.06-.94-.94-2.06-.94 2.06-2.06.94z\"/><path d=\"M17.41 7.96l-1.37-1.37c-.4-.4-.92-.59-1.43-.59-.52 0-1.04.2-1.43.59L10.3 9.45l-7.72 7.72c-.78.78-.78 2.05 0 2.83L4 21.41c.39.39.9.59 1.41.59.51 0 1.02-.2 1.41-.59l7.78-7.78 2.81-2.81c.8-.78.8-2.07 0-2.86zM5.41 20L4 18.59l7.72-7.72 1.47 1.35L5.41 20z\"/>\n",
              "  </svg>\n",
              "      </button>\n",
              "      \n",
              "  <style>\n",
              "    .colab-df-container {\n",
              "      display:flex;\n",
              "      flex-wrap:wrap;\n",
              "      gap: 12px;\n",
              "    }\n",
              "\n",
              "    .colab-df-convert {\n",
              "      background-color: #E8F0FE;\n",
              "      border: none;\n",
              "      border-radius: 50%;\n",
              "      cursor: pointer;\n",
              "      display: none;\n",
              "      fill: #1967D2;\n",
              "      height: 32px;\n",
              "      padding: 0 0 0 0;\n",
              "      width: 32px;\n",
              "    }\n",
              "\n",
              "    .colab-df-convert:hover {\n",
              "      background-color: #E2EBFA;\n",
              "      box-shadow: 0px 1px 2px rgba(60, 64, 67, 0.3), 0px 1px 3px 1px rgba(60, 64, 67, 0.15);\n",
              "      fill: #174EA6;\n",
              "    }\n",
              "\n",
              "    [theme=dark] .colab-df-convert {\n",
              "      background-color: #3B4455;\n",
              "      fill: #D2E3FC;\n",
              "    }\n",
              "\n",
              "    [theme=dark] .colab-df-convert:hover {\n",
              "      background-color: #434B5C;\n",
              "      box-shadow: 0px 1px 3px 1px rgba(0, 0, 0, 0.15);\n",
              "      filter: drop-shadow(0px 1px 2px rgba(0, 0, 0, 0.3));\n",
              "      fill: #FFFFFF;\n",
              "    }\n",
              "  </style>\n",
              "\n",
              "      <script>\n",
              "        const buttonEl =\n",
              "          document.querySelector('#df-09034610-a5d4-40ed-a0fd-839a4927c55b button.colab-df-convert');\n",
              "        buttonEl.style.display =\n",
              "          google.colab.kernel.accessAllowed ? 'block' : 'none';\n",
              "\n",
              "        async function convertToInteractive(key) {\n",
              "          const element = document.querySelector('#df-09034610-a5d4-40ed-a0fd-839a4927c55b');\n",
              "          const dataTable =\n",
              "            await google.colab.kernel.invokeFunction('convertToInteractive',\n",
              "                                                     [key], {});\n",
              "          if (!dataTable) return;\n",
              "\n",
              "          const docLinkHtml = 'Like what you see? Visit the ' +\n",
              "            '<a target=\"_blank\" href=https://colab.research.google.com/notebooks/data_table.ipynb>data table notebook</a>'\n",
              "            + ' to learn more about interactive tables.';\n",
              "          element.innerHTML = '';\n",
              "          dataTable['output_type'] = 'display_data';\n",
              "          await google.colab.output.renderOutput(dataTable, element);\n",
              "          const docLink = document.createElement('div');\n",
              "          docLink.innerHTML = docLinkHtml;\n",
              "          element.appendChild(docLink);\n",
              "        }\n",
              "      </script>\n",
              "    </div>\n",
              "  </div>\n",
              "  "
            ]
          },
          "metadata": {},
          "execution_count": 43
        }
      ]
    },
    {
      "cell_type": "code",
      "source": [
        "pd.crosstab(util.AGE_GRP, util.UNIT_TYPE)\n",
        "# Perhaps TOTAL_DAYS is the value keep, to represent UNIT_TYPE?"
      ],
      "metadata": {
        "colab": {
          "base_uri": "https://localhost:8080/",
          "height": 238
        },
        "id": "kR5uJ9inyfXK",
        "outputId": "5583b00d-a2b6-423c-eb28-5f5b3cd01dca"
      },
      "execution_count": null,
      "outputs": [
        {
          "output_type": "execute_result",
          "data": {
            "text/plain": [
              "UNIT_TYPE          BENE_COUNT  TOTAL_DAYS  TOTAL_DOLLARS  TOTAL_HOURS  \\\n",
              "AGE_GRP                                                                 \n",
              "A1 Children 0-2         13622           4            653          824   \n",
              "A2 Children 3-5         21236         113            847         1614   \n",
              "A3 Children 6-11        29660         866            891         2655   \n",
              "A4 Children 12-17       33255        1736            892         3250   \n",
              "A5 Youth 18-20          27814        2381            871         2496   \n",
              "\n",
              "UNIT_TYPE          TOTAL_MINUTES  TOTAL_UNITS  \n",
              "AGE_GRP                                        \n",
              "A1 Children 0-2             7020         4276  \n",
              "A2 Children 3-5            12064         5803  \n",
              "A3 Children 6-11           17122         7349  \n",
              "A4 Children 12-17          18486         8108  \n",
              "A5 Youth 18-20             14925         6307  "
            ],
            "text/html": [
              "\n",
              "  <div id=\"df-6d0ea259-aefd-4645-8779-ca95f9a37e61\">\n",
              "    <div class=\"colab-df-container\">\n",
              "      <div>\n",
              "<style scoped>\n",
              "    .dataframe tbody tr th:only-of-type {\n",
              "        vertical-align: middle;\n",
              "    }\n",
              "\n",
              "    .dataframe tbody tr th {\n",
              "        vertical-align: top;\n",
              "    }\n",
              "\n",
              "    .dataframe thead th {\n",
              "        text-align: right;\n",
              "    }\n",
              "</style>\n",
              "<table border=\"1\" class=\"dataframe\">\n",
              "  <thead>\n",
              "    <tr style=\"text-align: right;\">\n",
              "      <th>UNIT_TYPE</th>\n",
              "      <th>BENE_COUNT</th>\n",
              "      <th>TOTAL_DAYS</th>\n",
              "      <th>TOTAL_DOLLARS</th>\n",
              "      <th>TOTAL_HOURS</th>\n",
              "      <th>TOTAL_MINUTES</th>\n",
              "      <th>TOTAL_UNITS</th>\n",
              "    </tr>\n",
              "    <tr>\n",
              "      <th>AGE_GRP</th>\n",
              "      <th></th>\n",
              "      <th></th>\n",
              "      <th></th>\n",
              "      <th></th>\n",
              "      <th></th>\n",
              "      <th></th>\n",
              "    </tr>\n",
              "  </thead>\n",
              "  <tbody>\n",
              "    <tr>\n",
              "      <th>A1 Children 0-2</th>\n",
              "      <td>13622</td>\n",
              "      <td>4</td>\n",
              "      <td>653</td>\n",
              "      <td>824</td>\n",
              "      <td>7020</td>\n",
              "      <td>4276</td>\n",
              "    </tr>\n",
              "    <tr>\n",
              "      <th>A2 Children 3-5</th>\n",
              "      <td>21236</td>\n",
              "      <td>113</td>\n",
              "      <td>847</td>\n",
              "      <td>1614</td>\n",
              "      <td>12064</td>\n",
              "      <td>5803</td>\n",
              "    </tr>\n",
              "    <tr>\n",
              "      <th>A3 Children 6-11</th>\n",
              "      <td>29660</td>\n",
              "      <td>866</td>\n",
              "      <td>891</td>\n",
              "      <td>2655</td>\n",
              "      <td>17122</td>\n",
              "      <td>7349</td>\n",
              "    </tr>\n",
              "    <tr>\n",
              "      <th>A4 Children 12-17</th>\n",
              "      <td>33255</td>\n",
              "      <td>1736</td>\n",
              "      <td>892</td>\n",
              "      <td>3250</td>\n",
              "      <td>18486</td>\n",
              "      <td>8108</td>\n",
              "    </tr>\n",
              "    <tr>\n",
              "      <th>A5 Youth 18-20</th>\n",
              "      <td>27814</td>\n",
              "      <td>2381</td>\n",
              "      <td>871</td>\n",
              "      <td>2496</td>\n",
              "      <td>14925</td>\n",
              "      <td>6307</td>\n",
              "    </tr>\n",
              "  </tbody>\n",
              "</table>\n",
              "</div>\n",
              "      <button class=\"colab-df-convert\" onclick=\"convertToInteractive('df-6d0ea259-aefd-4645-8779-ca95f9a37e61')\"\n",
              "              title=\"Convert this dataframe to an interactive table.\"\n",
              "              style=\"display:none;\">\n",
              "        \n",
              "  <svg xmlns=\"http://www.w3.org/2000/svg\" height=\"24px\"viewBox=\"0 0 24 24\"\n",
              "       width=\"24px\">\n",
              "    <path d=\"M0 0h24v24H0V0z\" fill=\"none\"/>\n",
              "    <path d=\"M18.56 5.44l.94 2.06.94-2.06 2.06-.94-2.06-.94-.94-2.06-.94 2.06-2.06.94zm-11 1L8.5 8.5l.94-2.06 2.06-.94-2.06-.94L8.5 2.5l-.94 2.06-2.06.94zm10 10l.94 2.06.94-2.06 2.06-.94-2.06-.94-.94-2.06-.94 2.06-2.06.94z\"/><path d=\"M17.41 7.96l-1.37-1.37c-.4-.4-.92-.59-1.43-.59-.52 0-1.04.2-1.43.59L10.3 9.45l-7.72 7.72c-.78.78-.78 2.05 0 2.83L4 21.41c.39.39.9.59 1.41.59.51 0 1.02-.2 1.41-.59l7.78-7.78 2.81-2.81c.8-.78.8-2.07 0-2.86zM5.41 20L4 18.59l7.72-7.72 1.47 1.35L5.41 20z\"/>\n",
              "  </svg>\n",
              "      </button>\n",
              "      \n",
              "  <style>\n",
              "    .colab-df-container {\n",
              "      display:flex;\n",
              "      flex-wrap:wrap;\n",
              "      gap: 12px;\n",
              "    }\n",
              "\n",
              "    .colab-df-convert {\n",
              "      background-color: #E8F0FE;\n",
              "      border: none;\n",
              "      border-radius: 50%;\n",
              "      cursor: pointer;\n",
              "      display: none;\n",
              "      fill: #1967D2;\n",
              "      height: 32px;\n",
              "      padding: 0 0 0 0;\n",
              "      width: 32px;\n",
              "    }\n",
              "\n",
              "    .colab-df-convert:hover {\n",
              "      background-color: #E2EBFA;\n",
              "      box-shadow: 0px 1px 2px rgba(60, 64, 67, 0.3), 0px 1px 3px 1px rgba(60, 64, 67, 0.15);\n",
              "      fill: #174EA6;\n",
              "    }\n",
              "\n",
              "    [theme=dark] .colab-df-convert {\n",
              "      background-color: #3B4455;\n",
              "      fill: #D2E3FC;\n",
              "    }\n",
              "\n",
              "    [theme=dark] .colab-df-convert:hover {\n",
              "      background-color: #434B5C;\n",
              "      box-shadow: 0px 1px 3px 1px rgba(0, 0, 0, 0.15);\n",
              "      filter: drop-shadow(0px 1px 2px rgba(0, 0, 0, 0.3));\n",
              "      fill: #FFFFFF;\n",
              "    }\n",
              "  </style>\n",
              "\n",
              "      <script>\n",
              "        const buttonEl =\n",
              "          document.querySelector('#df-6d0ea259-aefd-4645-8779-ca95f9a37e61 button.colab-df-convert');\n",
              "        buttonEl.style.display =\n",
              "          google.colab.kernel.accessAllowed ? 'block' : 'none';\n",
              "\n",
              "        async function convertToInteractive(key) {\n",
              "          const element = document.querySelector('#df-6d0ea259-aefd-4645-8779-ca95f9a37e61');\n",
              "          const dataTable =\n",
              "            await google.colab.kernel.invokeFunction('convertToInteractive',\n",
              "                                                     [key], {});\n",
              "          if (!dataTable) return;\n",
              "\n",
              "          const docLinkHtml = 'Like what you see? Visit the ' +\n",
              "            '<a target=\"_blank\" href=https://colab.research.google.com/notebooks/data_table.ipynb>data table notebook</a>'\n",
              "            + ' to learn more about interactive tables.';\n",
              "          element.innerHTML = '';\n",
              "          dataTable['output_type'] = 'display_data';\n",
              "          await google.colab.output.renderOutput(dataTable, element);\n",
              "          const docLink = document.createElement('div');\n",
              "          docLink.innerHTML = docLinkHtml;\n",
              "          element.appendChild(docLink);\n",
              "        }\n",
              "      </script>\n",
              "    </div>\n",
              "  </div>\n",
              "  "
            ]
          },
          "metadata": {},
          "execution_count": 44
        }
      ]
    },
    {
      "cell_type": "code",
      "source": [
        "plt.figure(figsize=(15,8))\n",
        "\n",
        "sns.histplot(data=util, x=\"AGE_GRP\", color=\"red\")#, kde=True)\n",
        "#sns.histplot(data=util, x=\"MHS_TYPE\", color=\"blue\")#, kde=True)\n",
        "\n",
        "plt.show()\n",
        "\n",
        "# Patients ages 12 to 17 require the bulk of care, as compared to other age groups in the dataset."
      ],
      "metadata": {
        "colab": {
          "base_uri": "https://localhost:8080/",
          "height": 498
        },
        "id": "PT9_xVIW4eQ3",
        "outputId": "bb411295-01a1-44c4-b239-fd29247c1467"
      },
      "execution_count": null,
      "outputs": [
        {
          "output_type": "display_data",
          "data": {
            "text/plain": [
              "<Figure size 1080x576 with 1 Axes>"
            ],
            "image/png": "[encoded data removed]"
          },
          "metadata": {
            "needs_background": "light"
          }
        }
      ]
    },
    {
      "cell_type": "code",
      "source": [
        "pd.crosstab(util.AGE_GRP, util.MHS_TYPE)\n",
        "# There are a lot more patients being treated under \"MHS\" instead of \"SMHS\"\n",
        "\n",
        "# We can split the dataset, one set per MHS_TYPE, or combine the two, but balance the data so that\n",
        "# it is not biased towards MHS, which contains the majority of the records."
      ],
      "metadata": {
        "colab": {
          "base_uri": "https://localhost:8080/",
          "height": 238
        },
        "id": "4PZQQTKt1x-U",
        "outputId": "7877c226-5547-43fc-e9b8-be3221bb3c82"
      },
      "execution_count": null,
      "outputs": [
        {
          "output_type": "execute_result",
          "data": {
            "text/plain": [
              "MHS_TYPE             MHS   SMHS\n",
              "AGE_GRP                        \n",
              "A1 Children 0-2    21581   4818\n",
              "A2 Children 3-5    31713   9964\n",
              "A3 Children 6-11   43269  15274\n",
              "A4 Children 12-17  47205  18522\n",
              "A5 Youth 18-20     36946  17848"
            ],
            "text/html": [
              "\n",
              "  <div id=\"df-b1aa6396-33dc-410e-94f9-4e1fdb7260be\">\n",
              "    <div class=\"colab-df-container\">\n",
              "      <div>\n",
              "<style scoped>\n",
              "    .dataframe tbody tr th:only-of-type {\n",
              "        vertical-align: middle;\n",
              "    }\n",
              "\n",
              "    .dataframe tbody tr th {\n",
              "        vertical-align: top;\n",
              "    }\n",
              "\n",
              "    .dataframe thead th {\n",
              "        text-align: right;\n",
              "    }\n",
              "</style>\n",
              "<table border=\"1\" class=\"dataframe\">\n",
              "  <thead>\n",
              "    <tr style=\"text-align: right;\">\n",
              "      <th>MHS_TYPE</th>\n",
              "      <th>MHS</th>\n",
              "      <th>SMHS</th>\n",
              "    </tr>\n",
              "    <tr>\n",
              "      <th>AGE_GRP</th>\n",
              "      <th></th>\n",
              "      <th></th>\n",
              "    </tr>\n",
              "  </thead>\n",
              "  <tbody>\n",
              "    <tr>\n",
              "      <th>A1 Children 0-2</th>\n",
              "      <td>21581</td>\n",
              "      <td>4818</td>\n",
              "    </tr>\n",
              "    <tr>\n",
              "      <th>A2 Children 3-5</th>\n",
              "      <td>31713</td>\n",
              "      <td>9964</td>\n",
              "    </tr>\n",
              "    <tr>\n",
              "      <th>A3 Children 6-11</th>\n",
              "      <td>43269</td>\n",
              "      <td>15274</td>\n",
              "    </tr>\n",
              "    <tr>\n",
              "      <th>A4 Children 12-17</th>\n",
              "      <td>47205</td>\n",
              "      <td>18522</td>\n",
              "    </tr>\n",
              "    <tr>\n",
              "      <th>A5 Youth 18-20</th>\n",
              "      <td>36946</td>\n",
              "      <td>17848</td>\n",
              "    </tr>\n",
              "  </tbody>\n",
              "</table>\n",
              "</div>\n",
              "      <button class=\"colab-df-convert\" onclick=\"convertToInteractive('df-b1aa6396-33dc-410e-94f9-4e1fdb7260be')\"\n",
              "              title=\"Convert this dataframe to an interactive table.\"\n",
              "              style=\"display:none;\">\n",
              "        \n",
              "  <svg xmlns=\"http://www.w3.org/2000/svg\" height=\"24px\"viewBox=\"0 0 24 24\"\n",
              "       width=\"24px\">\n",
              "    <path d=\"M0 0h24v24H0V0z\" fill=\"none\"/>\n",
              "    <path d=\"M18.56 5.44l.94 2.06.94-2.06 2.06-.94-2.06-.94-.94-2.06-.94 2.06-2.06.94zm-11 1L8.5 8.5l.94-2.06 2.06-.94-2.06-.94L8.5 2.5l-.94 2.06-2.06.94zm10 10l.94 2.06.94-2.06 2.06-.94-2.06-.94-.94-2.06-.94 2.06-2.06.94z\"/><path d=\"M17.41 7.96l-1.37-1.37c-.4-.4-.92-.59-1.43-.59-.52 0-1.04.2-1.43.59L10.3 9.45l-7.72 7.72c-.78.78-.78 2.05 0 2.83L4 21.41c.39.39.9.59 1.41.59.51 0 1.02-.2 1.41-.59l7.78-7.78 2.81-2.81c.8-.78.8-2.07 0-2.86zM5.41 20L4 18.59l7.72-7.72 1.47 1.35L5.41 20z\"/>\n",
              "  </svg>\n",
              "      </button>\n",
              "      \n",
              "  <style>\n",
              "    .colab-df-container {\n",
              "      display:flex;\n",
              "      flex-wrap:wrap;\n",
              "      gap: 12px;\n",
              "    }\n",
              "\n",
              "    .colab-df-convert {\n",
              "      background-color: #E8F0FE;\n",
              "      border: none;\n",
              "      border-radius: 50%;\n",
              "      cursor: pointer;\n",
              "      display: none;\n",
              "      fill: #1967D2;\n",
              "      height: 32px;\n",
              "      padding: 0 0 0 0;\n",
              "      width: 32px;\n",
              "    }\n",
              "\n",
              "    .colab-df-convert:hover {\n",
              "      background-color: #E2EBFA;\n",
              "      box-shadow: 0px 1px 2px rgba(60, 64, 67, 0.3), 0px 1px 3px 1px rgba(60, 64, 67, 0.15);\n",
              "      fill: #174EA6;\n",
              "    }\n",
              "\n",
              "    [theme=dark] .colab-df-convert {\n",
              "      background-color: #3B4455;\n",
              "      fill: #D2E3FC;\n",
              "    }\n",
              "\n",
              "    [theme=dark] .colab-df-convert:hover {\n",
              "      background-color: #434B5C;\n",
              "      box-shadow: 0px 1px 3px 1px rgba(0, 0, 0, 0.15);\n",
              "      filter: drop-shadow(0px 1px 2px rgba(0, 0, 0, 0.3));\n",
              "      fill: #FFFFFF;\n",
              "    }\n",
              "  </style>\n",
              "\n",
              "      <script>\n",
              "        const buttonEl =\n",
              "          document.querySelector('#df-b1aa6396-33dc-410e-94f9-4e1fdb7260be button.colab-df-convert');\n",
              "        buttonEl.style.display =\n",
              "          google.colab.kernel.accessAllowed ? 'block' : 'none';\n",
              "\n",
              "        async function convertToInteractive(key) {\n",
              "          const element = document.querySelector('#df-b1aa6396-33dc-410e-94f9-4e1fdb7260be');\n",
              "          const dataTable =\n",
              "            await google.colab.kernel.invokeFunction('convertToInteractive',\n",
              "                                                     [key], {});\n",
              "          if (!dataTable) return;\n",
              "\n",
              "          const docLinkHtml = 'Like what you see? Visit the ' +\n",
              "            '<a target=\"_blank\" href=https://colab.research.google.com/notebooks/data_table.ipynb>data table notebook</a>'\n",
              "            + ' to learn more about interactive tables.';\n",
              "          element.innerHTML = '';\n",
              "          dataTable['output_type'] = 'display_data';\n",
              "          await google.colab.output.renderOutput(dataTable, element);\n",
              "          const docLink = document.createElement('div');\n",
              "          docLink.innerHTML = docLinkHtml;\n",
              "          element.appendChild(docLink);\n",
              "        }\n",
              "      </script>\n",
              "    </div>\n",
              "  </div>\n",
              "  "
            ]
          },
          "metadata": {},
          "execution_count": 46
        }
      ]
    },
    {
      "cell_type": "code",
      "source": [
        "age_mhstype_crosstb = pd.crosstab(util.AGE_GRP, util.MHS_TYPE)\n",
        "age_mhstype_crosstb.plot.bar(rot=0)\n",
        "# Visual representation of MHS_TYPE = \"MHS\" having the majority of patients.\n",
        "# The trends between MHS_TYPE amongst the AGE_GRP appear similar, except for the\n",
        "# last two AGE_GRP, where SMHS is very similar between groups 12-17 and 18-20. "
      ],
      "metadata": {
        "colab": {
          "base_uri": "https://localhost:8080/",
          "height": 297
        },
        "id": "35VlQVkv9SKU",
        "outputId": "5d4ebecb-9214-4537-8676-3b661b8d2b5b"
      },
      "execution_count": null,
      "outputs": [
        {
          "output_type": "execute_result",
          "data": {
            "text/plain": [
              "<matplotlib.axes._subplots.AxesSubplot at 0x7f6c7032d310>"
            ]
          },
          "metadata": {},
          "execution_count": 47
        },
        {
          "output_type": "display_data",
          "data": {
            "text/plain": [
              "<Figure size 432x288 with 1 Axes>"
            ],
            "image/png": "[encoded data removed]"
          },
          "metadata": {
            "needs_background": "light"
          }
        }
      ]
    },
    {
      "cell_type": "code",
      "source": [
        "age_time_group = pd.crosstab(util.AGE_GRP, util.FISCAL_YEAR)\n",
        "age_time_group\n",
        "# All groups show an increase; however, there is a decrease in the last year of the dataset, 2020,\n",
        "# perhaps due to the pandemic."
      ],
      "metadata": {
        "colab": {
          "base_uri": "https://localhost:8080/",
          "height": 238
        },
        "id": "yIByJMSm2e2q",
        "outputId": "1eb04051-3eef-4885-a9ce-03182f87f0f1"
      },
      "execution_count": null,
      "outputs": [
        {
          "output_type": "execute_result",
          "data": {
            "text/plain": [
              "FISCAL_YEAR         2017   2018   2019   2020\n",
              "AGE_GRP                                      \n",
              "A1 Children 0-2     6193   6509   6953   6744\n",
              "A2 Children 3-5     9976  10173  11120  10408\n",
              "A3 Children 6-11   14059  14277  15516  14691\n",
              "A4 Children 12-17  15380  16144  17491  16712\n",
              "A5 Youth 18-20     12819  13586  14379  14010"
            ],
            "text/html": [
              "\n",
              "  <div id=\"df-427a6a86-b4c5-4dc3-81d9-adf77131b44a\">\n",
              "    <div class=\"colab-df-container\">\n",
              "      <div>\n",
              "<style scoped>\n",
              "    .dataframe tbody tr th:only-of-type {\n",
              "        vertical-align: middle;\n",
              "    }\n",
              "\n",
              "    .dataframe tbody tr th {\n",
              "        vertical-align: top;\n",
              "    }\n",
              "\n",
              "    .dataframe thead th {\n",
              "        text-align: right;\n",
              "    }\n",
              "</style>\n",
              "<table border=\"1\" class=\"dataframe\">\n",
              "  <thead>\n",
              "    <tr style=\"text-align: right;\">\n",
              "      <th>FISCAL_YEAR</th>\n",
              "      <th>2017</th>\n",
              "      <th>2018</th>\n",
              "      <th>2019</th>\n",
              "      <th>2020</th>\n",
              "    </tr>\n",
              "    <tr>\n",
              "      <th>AGE_GRP</th>\n",
              "      <th></th>\n",
              "      <th></th>\n",
              "      <th></th>\n",
              "      <th></th>\n",
              "    </tr>\n",
              "  </thead>\n",
              "  <tbody>\n",
              "    <tr>\n",
              "      <th>A1 Children 0-2</th>\n",
              "      <td>6193</td>\n",
              "      <td>6509</td>\n",
              "      <td>6953</td>\n",
              "      <td>6744</td>\n",
              "    </tr>\n",
              "    <tr>\n",
              "      <th>A2 Children 3-5</th>\n",
              "      <td>9976</td>\n",
              "      <td>10173</td>\n",
              "      <td>11120</td>\n",
              "      <td>10408</td>\n",
              "    </tr>\n",
              "    <tr>\n",
              "      <th>A3 Children 6-11</th>\n",
              "      <td>14059</td>\n",
              "      <td>14277</td>\n",
              "      <td>15516</td>\n",
              "      <td>14691</td>\n",
              "    </tr>\n",
              "    <tr>\n",
              "      <th>A4 Children 12-17</th>\n",
              "      <td>15380</td>\n",
              "      <td>16144</td>\n",
              "      <td>17491</td>\n",
              "      <td>16712</td>\n",
              "    </tr>\n",
              "    <tr>\n",
              "      <th>A5 Youth 18-20</th>\n",
              "      <td>12819</td>\n",
              "      <td>13586</td>\n",
              "      <td>14379</td>\n",
              "      <td>14010</td>\n",
              "    </tr>\n",
              "  </tbody>\n",
              "</table>\n",
              "</div>\n",
              "      <button class=\"colab-df-convert\" onclick=\"convertToInteractive('df-427a6a86-b4c5-4dc3-81d9-adf77131b44a')\"\n",
              "              title=\"Convert this dataframe to an interactive table.\"\n",
              "              style=\"display:none;\">\n",
              "        \n",
              "  <svg xmlns=\"http://www.w3.org/2000/svg\" height=\"24px\"viewBox=\"0 0 24 24\"\n",
              "       width=\"24px\">\n",
              "    <path d=\"M0 0h24v24H0V0z\" fill=\"none\"/>\n",
              "    <path d=\"M18.56 5.44l.94 2.06.94-2.06 2.06-.94-2.06-.94-.94-2.06-.94 2.06-2.06.94zm-11 1L8.5 8.5l.94-2.06 2.06-.94-2.06-.94L8.5 2.5l-.94 2.06-2.06.94zm10 10l.94 2.06.94-2.06 2.06-.94-2.06-.94-.94-2.06-.94 2.06-2.06.94z\"/><path d=\"M17.41 7.96l-1.37-1.37c-.4-.4-.92-.59-1.43-.59-.52 0-1.04.2-1.43.59L10.3 9.45l-7.72 7.72c-.78.78-.78 2.05 0 2.83L4 21.41c.39.39.9.59 1.41.59.51 0 1.02-.2 1.41-.59l7.78-7.78 2.81-2.81c.8-.78.8-2.07 0-2.86zM5.41 20L4 18.59l7.72-7.72 1.47 1.35L5.41 20z\"/>\n",
              "  </svg>\n",
              "      </button>\n",
              "      \n",
              "  <style>\n",
              "    .colab-df-container {\n",
              "      display:flex;\n",
              "      flex-wrap:wrap;\n",
              "      gap: 12px;\n",
              "    }\n",
              "\n",
              "    .colab-df-convert {\n",
              "      background-color: #E8F0FE;\n",
              "      border: none;\n",
              "      border-radius: 50%;\n",
              "      cursor: pointer;\n",
              "      display: none;\n",
              "      fill: #1967D2;\n",
              "      height: 32px;\n",
              "      padding: 0 0 0 0;\n",
              "      width: 32px;\n",
              "    }\n",
              "\n",
              "    .colab-df-convert:hover {\n",
              "      background-color: #E2EBFA;\n",
              "      box-shadow: 0px 1px 2px rgba(60, 64, 67, 0.3), 0px 1px 3px 1px rgba(60, 64, 67, 0.15);\n",
              "      fill: #174EA6;\n",
              "    }\n",
              "\n",
              "    [theme=dark] .colab-df-convert {\n",
              "      background-color: #3B4455;\n",
              "      fill: #D2E3FC;\n",
              "    }\n",
              "\n",
              "    [theme=dark] .colab-df-convert:hover {\n",
              "      background-color: #434B5C;\n",
              "      box-shadow: 0px 1px 3px 1px rgba(0, 0, 0, 0.15);\n",
              "      filter: drop-shadow(0px 1px 2px rgba(0, 0, 0, 0.3));\n",
              "      fill: #FFFFFF;\n",
              "    }\n",
              "  </style>\n",
              "\n",
              "      <script>\n",
              "        const buttonEl =\n",
              "          document.querySelector('#df-427a6a86-b4c5-4dc3-81d9-adf77131b44a button.colab-df-convert');\n",
              "        buttonEl.style.display =\n",
              "          google.colab.kernel.accessAllowed ? 'block' : 'none';\n",
              "\n",
              "        async function convertToInteractive(key) {\n",
              "          const element = document.querySelector('#df-427a6a86-b4c5-4dc3-81d9-adf77131b44a');\n",
              "          const dataTable =\n",
              "            await google.colab.kernel.invokeFunction('convertToInteractive',\n",
              "                                                     [key], {});\n",
              "          if (!dataTable) return;\n",
              "\n",
              "          const docLinkHtml = 'Like what you see? Visit the ' +\n",
              "            '<a target=\"_blank\" href=https://colab.research.google.com/notebooks/data_table.ipynb>data table notebook</a>'\n",
              "            + ' to learn more about interactive tables.';\n",
              "          element.innerHTML = '';\n",
              "          dataTable['output_type'] = 'display_data';\n",
              "          await google.colab.output.renderOutput(dataTable, element);\n",
              "          const docLink = document.createElement('div');\n",
              "          docLink.innerHTML = docLinkHtml;\n",
              "          element.appendChild(docLink);\n",
              "        }\n",
              "      </script>\n",
              "    </div>\n",
              "  </div>\n",
              "  "
            ]
          },
          "metadata": {},
          "execution_count": 55
        }
      ]
    },
    {
      "cell_type": "code",
      "source": [
        "plt.figure(figsize=(13,6))\n",
        "age_time_group.plot.bar(rot=45)"
      ],
      "metadata": {
        "colab": {
          "base_uri": "https://localhost:8080/",
          "height": 376
        },
        "id": "wquDwhWKT9je",
        "outputId": "c6779123-c6c4-441a-98ed-e1e8baf38a82"
      },
      "execution_count": null,
      "outputs": [
        {
          "output_type": "execute_result",
          "data": {
            "text/plain": [
              "<matplotlib.axes._subplots.AxesSubplot at 0x7f6c6221c690>"
            ]
          },
          "metadata": {},
          "execution_count": 71
        },
        {
          "output_type": "display_data",
          "data": {
            "text/plain": [
              "<Figure size 936x432 with 0 Axes>"
            ]
          },
          "metadata": {}
        },
        {
          "output_type": "display_data",
          "data": {
            "text/plain": [
              "<Figure size 432x288 with 1 Axes>"
            ],
            "image/png": "[encoded data removed]"
          },
          "metadata": {
            "needs_background": "light"
          }
        }
      ]
    },
    {
      "cell_type": "code",
      "source": [
        "demo.head()"
      ],
      "metadata": {
        "colab": {
          "base_uri": "https://localhost:8080/",
          "height": 206
        },
        "id": "rPuUK206Zt7g",
        "outputId": "920cace0-c084-4805-e0fc-cb58cf75c55c"
      },
      "execution_count": null,
      "outputs": [
        {
          "output_type": "execute_result",
          "data": {
            "text/plain": [
              "  POPULATION_NAME POPULATION_TYPE  FISCAL_YEAR  \\\n",
              "0         Alameda              01         2017   \n",
              "1         Alameda              01         2017   \n",
              "2         Alameda              01         2017   \n",
              "3         Alameda              01         2017   \n",
              "4         Alameda              01         2017   \n",
              "\n",
              "                               RACE_GRP  TOTAL_CT  TOTAL_CT_ANNOT  MHS1_CT  \\\n",
              "0  R1 Alaskan Native or American Indian     392.0             NaN     26.0   \n",
              "1          R2 Asian or Pacific Islander   31643.0             NaN   1366.0   \n",
              "2                              R3 Black   31057.0             NaN   2299.0   \n",
              "3                           R4 Hispanic   73605.0             NaN   4964.0   \n",
              "4                              R5 White   13401.0             NaN   1267.0   \n",
              "\n",
              "   MHS1_CT_ANNOT  MHS5_CT  MHS5_CT_ANNOT MHS_TYPE  \n",
              "0            NaN      NaN            1.0      MHS  \n",
              "1            NaN    256.0            NaN      MHS  \n",
              "2            NaN    332.0            NaN      MHS  \n",
              "3            NaN    835.0            NaN      MHS  \n",
              "4            NaN    326.0            NaN      MHS  "
            ],
            "text/html": [
              "\n",
              "  <div id=\"df-9631e29f-70ce-40ee-8056-bc3b846e073c\">\n",
              "    <div class=\"colab-df-container\">\n",
              "      <div>\n",
              "<style scoped>\n",
              "    .dataframe tbody tr th:only-of-type {\n",
              "        vertical-align: middle;\n",
              "    }\n",
              "\n",
              "    .dataframe tbody tr th {\n",
              "        vertical-align: top;\n",
              "    }\n",
              "\n",
              "    .dataframe thead th {\n",
              "        text-align: right;\n",
              "    }\n",
              "</style>\n",
              "<table border=\"1\" class=\"dataframe\">\n",
              "  <thead>\n",
              "    <tr style=\"text-align: right;\">\n",
              "      <th></th>\n",
              "      <th>POPULATION_NAME</th>\n",
              "      <th>POPULATION_TYPE</th>\n",
              "      <th>FISCAL_YEAR</th>\n",
              "      <th>RACE_GRP</th>\n",
              "      <th>TOTAL_CT</th>\n",
              "      <th>TOTAL_CT_ANNOT</th>\n",
              "      <th>MHS1_CT</th>\n",
              "      <th>MHS1_CT_ANNOT</th>\n",
              "      <th>MHS5_CT</th>\n",
              "      <th>MHS5_CT_ANNOT</th>\n",
              "      <th>MHS_TYPE</th>\n",
              "    </tr>\n",
              "  </thead>\n",
              "  <tbody>\n",
              "    <tr>\n",
              "      <th>0</th>\n",
              "      <td>Alameda</td>\n",
              "      <td>01</td>\n",
              "      <td>2017</td>\n",
              "      <td>R1 Alaskan Native or American Indian</td>\n",
              "      <td>392.0</td>\n",
              "      <td>NaN</td>\n",
              "      <td>26.0</td>\n",
              "      <td>NaN</td>\n",
              "      <td>NaN</td>\n",
              "      <td>1.0</td>\n",
              "      <td>MHS</td>\n",
              "    </tr>\n",
              "    <tr>\n",
              "      <th>1</th>\n",
              "      <td>Alameda</td>\n",
              "      <td>01</td>\n",
              "      <td>2017</td>\n",
              "      <td>R2 Asian or Pacific Islander</td>\n",
              "      <td>31643.0</td>\n",
              "      <td>NaN</td>\n",
              "      <td>1366.0</td>\n",
              "      <td>NaN</td>\n",
              "      <td>256.0</td>\n",
              "      <td>NaN</td>\n",
              "      <td>MHS</td>\n",
              "    </tr>\n",
              "    <tr>\n",
              "      <th>2</th>\n",
              "      <td>Alameda</td>\n",
              "      <td>01</td>\n",
              "      <td>2017</td>\n",
              "      <td>R3 Black</td>\n",
              "      <td>31057.0</td>\n",
              "      <td>NaN</td>\n",
              "      <td>2299.0</td>\n",
              "      <td>NaN</td>\n",
              "      <td>332.0</td>\n",
              "      <td>NaN</td>\n",
              "      <td>MHS</td>\n",
              "    </tr>\n",
              "    <tr>\n",
              "      <th>3</th>\n",
              "      <td>Alameda</td>\n",
              "      <td>01</td>\n",
              "      <td>2017</td>\n",
              "      <td>R4 Hispanic</td>\n",
              "      <td>73605.0</td>\n",
              "      <td>NaN</td>\n",
              "      <td>4964.0</td>\n",
              "      <td>NaN</td>\n",
              "      <td>835.0</td>\n",
              "      <td>NaN</td>\n",
              "      <td>MHS</td>\n",
              "    </tr>\n",
              "    <tr>\n",
              "      <th>4</th>\n",
              "      <td>Alameda</td>\n",
              "      <td>01</td>\n",
              "      <td>2017</td>\n",
              "      <td>R5 White</td>\n",
              "      <td>13401.0</td>\n",
              "      <td>NaN</td>\n",
              "      <td>1267.0</td>\n",
              "      <td>NaN</td>\n",
              "      <td>326.0</td>\n",
              "      <td>NaN</td>\n",
              "      <td>MHS</td>\n",
              "    </tr>\n",
              "  </tbody>\n",
              "</table>\n",
              "</div>\n",
              "      <button class=\"colab-df-convert\" onclick=\"convertToInteractive('df-9631e29f-70ce-40ee-8056-bc3b846e073c')\"\n",
              "              title=\"Convert this dataframe to an interactive table.\"\n",
              "              style=\"display:none;\">\n",
              "        \n",
              "  <svg xmlns=\"http://www.w3.org/2000/svg\" height=\"24px\"viewBox=\"0 0 24 24\"\n",
              "       width=\"24px\">\n",
              "    <path d=\"M0 0h24v24H0V0z\" fill=\"none\"/>\n",
              "    <path d=\"M18.56 5.44l.94 2.06.94-2.06 2.06-.94-2.06-.94-.94-2.06-.94 2.06-2.06.94zm-11 1L8.5 8.5l.94-2.06 2.06-.94-2.06-.94L8.5 2.5l-.94 2.06-2.06.94zm10 10l.94 2.06.94-2.06 2.06-.94-2.06-.94-.94-2.06-.94 2.06-2.06.94z\"/><path d=\"M17.41 7.96l-1.37-1.37c-.4-.4-.92-.59-1.43-.59-.52 0-1.04.2-1.43.59L10.3 9.45l-7.72 7.72c-.78.78-.78 2.05 0 2.83L4 21.41c.39.39.9.59 1.41.59.51 0 1.02-.2 1.41-.59l7.78-7.78 2.81-2.81c.8-.78.8-2.07 0-2.86zM5.41 20L4 18.59l7.72-7.72 1.47 1.35L5.41 20z\"/>\n",
              "  </svg>\n",
              "      </button>\n",
              "      \n",
              "  <style>\n",
              "    .colab-df-container {\n",
              "      display:flex;\n",
              "      flex-wrap:wrap;\n",
              "      gap: 12px;\n",
              "    }\n",
              "\n",
              "    .colab-df-convert {\n",
              "      background-color: #E8F0FE;\n",
              "      border: none;\n",
              "      border-radius: 50%;\n",
              "      cursor: pointer;\n",
              "      display: none;\n",
              "      fill: #1967D2;\n",
              "      height: 32px;\n",
              "      padding: 0 0 0 0;\n",
              "      width: 32px;\n",
              "    }\n",
              "\n",
              "    .colab-df-convert:hover {\n",
              "      background-color: #E2EBFA;\n",
              "      box-shadow: 0px 1px 2px rgba(60, 64, 67, 0.3), 0px 1px 3px 1px rgba(60, 64, 67, 0.15);\n",
              "      fill: #174EA6;\n",
              "    }\n",
              "\n",
              "    [theme=dark] .colab-df-convert {\n",
              "      background-color: #3B4455;\n",
              "      fill: #D2E3FC;\n",
              "    }\n",
              "\n",
              "    [theme=dark] .colab-df-convert:hover {\n",
              "      background-color: #434B5C;\n",
              "      box-shadow: 0px 1px 3px 1px rgba(0, 0, 0, 0.15);\n",
              "      filter: drop-shadow(0px 1px 2px rgba(0, 0, 0, 0.3));\n",
              "      fill: #FFFFFF;\n",
              "    }\n",
              "  </style>\n",
              "\n",
              "      <script>\n",
              "        const buttonEl =\n",
              "          document.querySelector('#df-9631e29f-70ce-40ee-8056-bc3b846e073c button.colab-df-convert');\n",
              "        buttonEl.style.display =\n",
              "          google.colab.kernel.accessAllowed ? 'block' : 'none';\n",
              "\n",
              "        async function convertToInteractive(key) {\n",
              "          const element = document.querySelector('#df-9631e29f-70ce-40ee-8056-bc3b846e073c');\n",
              "          const dataTable =\n",
              "            await google.colab.kernel.invokeFunction('convertToInteractive',\n",
              "                                                     [key], {});\n",
              "          if (!dataTable) return;\n",
              "\n",
              "          const docLinkHtml = 'Like what you see? Visit the ' +\n",
              "            '<a target=\"_blank\" href=https://colab.research.google.com/notebooks/data_table.ipynb>data table notebook</a>'\n",
              "            + ' to learn more about interactive tables.';\n",
              "          element.innerHTML = '';\n",
              "          dataTable['output_type'] = 'display_data';\n",
              "          await google.colab.output.renderOutput(dataTable, element);\n",
              "          const docLink = document.createElement('div');\n",
              "          docLink.innerHTML = docLinkHtml;\n",
              "          element.appendChild(docLink);\n",
              "        }\n",
              "      </script>\n",
              "    </div>\n",
              "  </div>\n",
              "  "
            ]
          },
          "metadata": {},
          "execution_count": 74
        }
      ]
    },
    {
      "cell_type": "code",
      "source": [
        "demo_group = demo.groupby(['FISCAL_YEAR','RACE_GRP'])['TOTAL_CT'].sum()\n",
        "demo_group"
      ],
      "metadata": {
        "colab": {
          "base_uri": "https://localhost:8080/"
        },
        "id": "6nQMDmXDXozr",
        "outputId": "15a3d7c6-fca3-4989-8980-85a600318d04"
      },
      "execution_count": null,
      "outputs": [
        {
          "output_type": "execute_result",
          "data": {
            "text/plain": [
              "FISCAL_YEAR  RACE_GRP                            \n",
              "2017         R1 Alaskan Native or American Indian      168432.0\n",
              "             R2 Asian or Pacific Islander             3492246.0\n",
              "             R3 Black                                 3452816.0\n",
              "             R4 Hispanic                             29310256.0\n",
              "             R5 White                                 7257112.0\n",
              "             R6 Other                                 2502710.0\n",
              "             R7 Unknown                               4293155.0\n",
              "2018         R1 Alaskan Native or American Indian      161500.0\n",
              "             R2 Asian or Pacific Islander             3241876.0\n",
              "             R3 Black                                 3342461.0\n",
              "             R4 Hispanic                             28594676.0\n",
              "             R5 White                                 6876618.0\n",
              "             R6 Other                                 2646802.0\n",
              "             R7 Unknown                               4117084.0\n",
              "2019         R1 Alaskan Native or American Indian      156684.0\n",
              "             R2 Asian or Pacific Islander             3089155.0\n",
              "             R3 Black                                 3274717.0\n",
              "             R4 Hispanic                             27963720.0\n",
              "             R5 White                                 6538708.0\n",
              "             R6 Other                                 2780614.0\n",
              "             R7 Unknown                               4006008.0\n",
              "2020         R1 Alaskan Native or American Indian      148166.0\n",
              "             R2 Asian or Pacific Islander             2989858.0\n",
              "             R3 Black                                 3123789.0\n",
              "             R4 Hispanic                             26957664.0\n",
              "             R5 White                                 6215736.0\n",
              "             R6 Other                                 2922182.0\n",
              "             R7 Unknown                               4008880.0\n",
              "Name: TOTAL_CT, dtype: float64"
            ]
          },
          "metadata": {},
          "execution_count": 126
        }
      ]
    },
    {
      "cell_type": "code",
      "source": [
        "demo_group.plot.bar(rot=90,figsize=(16,6))\n"
      ],
      "metadata": {
        "colab": {
          "base_uri": "https://localhost:8080/",
          "height": 636
        },
        "id": "om1zh3vLkCWF",
        "outputId": "7edb6906-0b91-4b53-d77e-e19ddd331e7b"
      },
      "execution_count": null,
      "outputs": [
        {
          "output_type": "execute_result",
          "data": {
            "text/plain": [
              "<matplotlib.axes._subplots.AxesSubplot at 0x7f6c5b720d10>"
            ]
          },
          "metadata": {},
          "execution_count": 127
        },
        {
          "output_type": "display_data",
          "data": {
            "text/plain": [
              "<Figure size 1152x432 with 1 Axes>"
            ],
            "image/png": "[encoded data removed]"
          },
          "metadata": {
            "needs_background": "light"
          }
        }
      ]
    },
    {
      "cell_type": "code",
      "source": [
        "dg_sorted = demo_group.sort_values(ascending=False)\n",
        "dg_sorted\n",
        "dg_sorted.plot.bar(rot=90,figsize=(16,6))\n"
      ],
      "metadata": {
        "colab": {
          "base_uri": "https://localhost:8080/",
          "height": 636
        },
        "id": "y1VEAvTCjPUu",
        "outputId": "63bde4ce-cb73-4e6d-c921-3414141ce2d1"
      },
      "execution_count": null,
      "outputs": [
        {
          "output_type": "execute_result",
          "data": {
            "text/plain": [
              "<matplotlib.axes._subplots.AxesSubplot at 0x7f6c5b729c50>"
            ]
          },
          "metadata": {},
          "execution_count": 129
        },
        {
          "output_type": "display_data",
          "data": {
            "text/plain": [
              "<Figure size 1152x432 with 1 Axes>"
            ],
            "image/png": "[encoded data removed]"
          },
          "metadata": {
            "needs_background": "light"
          }
        }
      ]
    },
    {
      "cell_type": "code",
      "source": [
        ""
      ],
      "metadata": {
        "id": "kcI9g3_ujQR6"
      },
      "execution_count": null,
      "outputs": []
    },
    {
      "cell_type": "code",
      "source": [
        "age.head(30)"
      ],
      "metadata": {
        "colab": {
          "base_uri": "https://localhost:8080/",
          "height": 206
        },
        "id": "jnLR2Bv0Zv25",
        "outputId": "ee731e15-1997-4c3f-d90b-cf4c6613e719"
      },
      "execution_count": null,
      "outputs": [
        {
          "output_type": "execute_result",
          "data": {
            "text/plain": [
              "  POPULATION_NAME POPULATION_TYPE  FISCAL_YEAR            AGE_GRP  TOTAL_CT  \\\n",
              "0         Alameda              01         2017    A1 Children 0-2   26932.0   \n",
              "1         Alameda              01         2017    A2 Children 3-5   26641.0   \n",
              "2         Alameda              01         2017   A3 Children 6-11   54276.0   \n",
              "3         Alameda              01         2017  A4 Children 12-17   50334.0   \n",
              "4         Alameda              01         2017     A5 Youth 18-20   22436.0   \n",
              "\n",
              "   TOTAL_CT_ANNOT  MHS1_CT  MHS1_CT_ANNOT  MHS5_CT  MHS5_CT_ANNOT MHS_TYPE  \n",
              "0             NaN   2026.0            NaN     44.0            NaN      MHS  \n",
              "1             NaN   1120.0            NaN    255.0            NaN      MHS  \n",
              "2             NaN   3442.0            NaN    790.0            NaN      MHS  \n",
              "3             NaN   4119.0            NaN    840.0            NaN      MHS  \n",
              "4             NaN   1417.0            NaN    249.0            NaN      MHS  "
            ],
            "text/html": [
              "\n",
              "  <div id=\"df-0cd659b9-2098-405d-8644-4d3ed420bb63\">\n",
              "    <div class=\"colab-df-container\">\n",
              "      <div>\n",
              "<style scoped>\n",
              "    .dataframe tbody tr th:only-of-type {\n",
              "        vertical-align: middle;\n",
              "    }\n",
              "\n",
              "    .dataframe tbody tr th {\n",
              "        vertical-align: top;\n",
              "    }\n",
              "\n",
              "    .dataframe thead th {\n",
              "        text-align: right;\n",
              "    }\n",
              "</style>\n",
              "<table border=\"1\" class=\"dataframe\">\n",
              "  <thead>\n",
              "    <tr style=\"text-align: right;\">\n",
              "      <th></th>\n",
              "      <th>POPULATION_NAME</th>\n",
              "      <th>POPULATION_TYPE</th>\n",
              "      <th>FISCAL_YEAR</th>\n",
              "      <th>AGE_GRP</th>\n",
              "      <th>TOTAL_CT</th>\n",
              "      <th>TOTAL_CT_ANNOT</th>\n",
              "      <th>MHS1_CT</th>\n",
              "      <th>MHS1_CT_ANNOT</th>\n",
              "      <th>MHS5_CT</th>\n",
              "      <th>MHS5_CT_ANNOT</th>\n",
              "      <th>MHS_TYPE</th>\n",
              "    </tr>\n",
              "  </thead>\n",
              "  <tbody>\n",
              "    <tr>\n",
              "      <th>0</th>\n",
              "      <td>Alameda</td>\n",
              "      <td>01</td>\n",
              "      <td>2017</td>\n",
              "      <td>A1 Children 0-2</td>\n",
              "      <td>26932.0</td>\n",
              "      <td>NaN</td>\n",
              "      <td>2026.0</td>\n",
              "      <td>NaN</td>\n",
              "      <td>44.0</td>\n",
              "      <td>NaN</td>\n",
              "      <td>MHS</td>\n",
              "    </tr>\n",
              "    <tr>\n",
              "      <th>1</th>\n",
              "      <td>Alameda</td>\n",
              "      <td>01</td>\n",
              "      <td>2017</td>\n",
              "      <td>A2 Children 3-5</td>\n",
              "      <td>26641.0</td>\n",
              "      <td>NaN</td>\n",
              "      <td>1120.0</td>\n",
              "      <td>NaN</td>\n",
              "      <td>255.0</td>\n",
              "      <td>NaN</td>\n",
              "      <td>MHS</td>\n",
              "    </tr>\n",
              "    <tr>\n",
              "      <th>2</th>\n",
              "      <td>Alameda</td>\n",
              "      <td>01</td>\n",
              "      <td>2017</td>\n",
              "      <td>A3 Children 6-11</td>\n",
              "      <td>54276.0</td>\n",
              "      <td>NaN</td>\n",
              "      <td>3442.0</td>\n",
              "      <td>NaN</td>\n",
              "      <td>790.0</td>\n",
              "      <td>NaN</td>\n",
              "      <td>MHS</td>\n",
              "    </tr>\n",
              "    <tr>\n",
              "      <th>3</th>\n",
              "      <td>Alameda</td>\n",
              "      <td>01</td>\n",
              "      <td>2017</td>\n",
              "      <td>A4 Children 12-17</td>\n",
              "      <td>50334.0</td>\n",
              "      <td>NaN</td>\n",
              "      <td>4119.0</td>\n",
              "      <td>NaN</td>\n",
              "      <td>840.0</td>\n",
              "      <td>NaN</td>\n",
              "      <td>MHS</td>\n",
              "    </tr>\n",
              "    <tr>\n",
              "      <th>4</th>\n",
              "      <td>Alameda</td>\n",
              "      <td>01</td>\n",
              "      <td>2017</td>\n",
              "      <td>A5 Youth 18-20</td>\n",
              "      <td>22436.0</td>\n",
              "      <td>NaN</td>\n",
              "      <td>1417.0</td>\n",
              "      <td>NaN</td>\n",
              "      <td>249.0</td>\n",
              "      <td>NaN</td>\n",
              "      <td>MHS</td>\n",
              "    </tr>\n",
              "  </tbody>\n",
              "</table>\n",
              "</div>\n",
              "      <button class=\"colab-df-convert\" onclick=\"convertToInteractive('df-0cd659b9-2098-405d-8644-4d3ed420bb63')\"\n",
              "              title=\"Convert this dataframe to an interactive table.\"\n",
              "              style=\"display:none;\">\n",
              "        \n",
              "  <svg xmlns=\"http://www.w3.org/2000/svg\" height=\"24px\"viewBox=\"0 0 24 24\"\n",
              "       width=\"24px\">\n",
              "    <path d=\"M0 0h24v24H0V0z\" fill=\"none\"/>\n",
              "    <path d=\"M18.56 5.44l.94 2.06.94-2.06 2.06-.94-2.06-.94-.94-2.06-.94 2.06-2.06.94zm-11 1L8.5 8.5l.94-2.06 2.06-.94-2.06-.94L8.5 2.5l-.94 2.06-2.06.94zm10 10l.94 2.06.94-2.06 2.06-.94-2.06-.94-.94-2.06-.94 2.06-2.06.94z\"/><path d=\"M17.41 7.96l-1.37-1.37c-.4-.4-.92-.59-1.43-.59-.52 0-1.04.2-1.43.59L10.3 9.45l-7.72 7.72c-.78.78-.78 2.05 0 2.83L4 21.41c.39.39.9.59 1.41.59.51 0 1.02-.2 1.41-.59l7.78-7.78 2.81-2.81c.8-.78.8-2.07 0-2.86zM5.41 20L4 18.59l7.72-7.72 1.47 1.35L5.41 20z\"/>\n",
              "  </svg>\n",
              "      </button>\n",
              "      \n",
              "  <style>\n",
              "    .colab-df-container {\n",
              "      display:flex;\n",
              "      flex-wrap:wrap;\n",
              "      gap: 12px;\n",
              "    }\n",
              "\n",
              "    .colab-df-convert {\n",
              "      background-color: #E8F0FE;\n",
              "      border: none;\n",
              "      border-radius: 50%;\n",
              "      cursor: pointer;\n",
              "      display: none;\n",
              "      fill: #1967D2;\n",
              "      height: 32px;\n",
              "      padding: 0 0 0 0;\n",
              "      width: 32px;\n",
              "    }\n",
              "\n",
              "    .colab-df-convert:hover {\n",
              "      background-color: #E2EBFA;\n",
              "      box-shadow: 0px 1px 2px rgba(60, 64, 67, 0.3), 0px 1px 3px 1px rgba(60, 64, 67, 0.15);\n",
              "      fill: #174EA6;\n",
              "    }\n",
              "\n",
              "    [theme=dark] .colab-df-convert {\n",
              "      background-color: #3B4455;\n",
              "      fill: #D2E3FC;\n",
              "    }\n",
              "\n",
              "    [theme=dark] .colab-df-convert:hover {\n",
              "      background-color: #434B5C;\n",
              "      box-shadow: 0px 1px 3px 1px rgba(0, 0, 0, 0.15);\n",
              "      filter: drop-shadow(0px 1px 2px rgba(0, 0, 0, 0.3));\n",
              "      fill: #FFFFFF;\n",
              "    }\n",
              "  </style>\n",
              "\n",
              "      <script>\n",
              "        const buttonEl =\n",
              "          document.querySelector('#df-0cd659b9-2098-405d-8644-4d3ed420bb63 button.colab-df-convert');\n",
              "        buttonEl.style.display =\n",
              "          google.colab.kernel.accessAllowed ? 'block' : 'none';\n",
              "\n",
              "        async function convertToInteractive(key) {\n",
              "          const element = document.querySelector('#df-0cd659b9-2098-405d-8644-4d3ed420bb63');\n",
              "          const dataTable =\n",
              "            await google.colab.kernel.invokeFunction('convertToInteractive',\n",
              "                                                     [key], {});\n",
              "          if (!dataTable) return;\n",
              "\n",
              "          const docLinkHtml = 'Like what you see? Visit the ' +\n",
              "            '<a target=\"_blank\" href=https://colab.research.google.com/notebooks/data_table.ipynb>data table notebook</a>'\n",
              "            + ' to learn more about interactive tables.';\n",
              "          element.innerHTML = '';\n",
              "          dataTable['output_type'] = 'display_data';\n",
              "          await google.colab.output.renderOutput(dataTable, element);\n",
              "          const docLink = document.createElement('div');\n",
              "          docLink.innerHTML = docLinkHtml;\n",
              "          element.appendChild(docLink);\n",
              "        }\n",
              "      </script>\n",
              "    </div>\n",
              "  </div>\n",
              "  "
            ]
          },
          "metadata": {},
          "execution_count": 84
        }
      ]
    },
    {
      "cell_type": "code",
      "source": [
        "df_age = age.groupby(['AGE_GRP','MHS_TYPE'],as_index=False)['TOTAL_CT'].sum()\n",
        "df_age\n"
      ],
      "metadata": {
        "colab": {
          "base_uri": "https://localhost:8080/",
          "height": 363
        },
        "id": "JY6XC2nVXI23",
        "outputId": "151d5aa7-daa8-4671-ca50-3b62702f0236"
      },
      "execution_count": null,
      "outputs": [
        {
          "output_type": "execute_result",
          "data": {
            "text/plain": [
              "             AGE_GRP MHS_TYPE    TOTAL_CT\n",
              "0    A1 Children 0-2      MHS  13995636.0\n",
              "1    A1 Children 0-2     SMHS  13993664.0\n",
              "2    A2 Children 3-5      MHS  14152638.0\n",
              "3    A2 Children 3-5     SMHS  14150494.0\n",
              "4   A3 Children 6-11      MHS  28883636.0\n",
              "5   A3 Children 6-11     SMHS  28877784.0\n",
              "6  A4 Children 12-17      MHS  27804764.0\n",
              "7  A4 Children 12-17     SMHS  27774138.0\n",
              "8     A5 Youth 18-20      MHS  12043406.0\n",
              "9     A5 Youth 18-20     SMHS  11969395.0"
            ],
            "text/html": [
              "\n",
              "  <div id=\"df-07c02ce2-cf71-4dc0-810b-c6028ead3dae\">\n",
              "    <div class=\"colab-df-container\">\n",
              "      <div>\n",
              "<style scoped>\n",
              "    .dataframe tbody tr th:only-of-type {\n",
              "        vertical-align: middle;\n",
              "    }\n",
              "\n",
              "    .dataframe tbody tr th {\n",
              "        vertical-align: top;\n",
              "    }\n",
              "\n",
              "    .dataframe thead th {\n",
              "        text-align: right;\n",
              "    }\n",
              "</style>\n",
              "<table border=\"1\" class=\"dataframe\">\n",
              "  <thead>\n",
              "    <tr style=\"text-align: right;\">\n",
              "      <th></th>\n",
              "      <th>AGE_GRP</th>\n",
              "      <th>MHS_TYPE</th>\n",
              "      <th>TOTAL_CT</th>\n",
              "    </tr>\n",
              "  </thead>\n",
              "  <tbody>\n",
              "    <tr>\n",
              "      <th>0</th>\n",
              "      <td>A1 Children 0-2</td>\n",
              "      <td>MHS</td>\n",
              "      <td>13995636.0</td>\n",
              "    </tr>\n",
              "    <tr>\n",
              "      <th>1</th>\n",
              "      <td>A1 Children 0-2</td>\n",
              "      <td>SMHS</td>\n",
              "      <td>13993664.0</td>\n",
              "    </tr>\n",
              "    <tr>\n",
              "      <th>2</th>\n",
              "      <td>A2 Children 3-5</td>\n",
              "      <td>MHS</td>\n",
              "      <td>14152638.0</td>\n",
              "    </tr>\n",
              "    <tr>\n",
              "      <th>3</th>\n",
              "      <td>A2 Children 3-5</td>\n",
              "      <td>SMHS</td>\n",
              "      <td>14150494.0</td>\n",
              "    </tr>\n",
              "    <tr>\n",
              "      <th>4</th>\n",
              "      <td>A3 Children 6-11</td>\n",
              "      <td>MHS</td>\n",
              "      <td>28883636.0</td>\n",
              "    </tr>\n",
              "    <tr>\n",
              "      <th>5</th>\n",
              "      <td>A3 Children 6-11</td>\n",
              "      <td>SMHS</td>\n",
              "      <td>28877784.0</td>\n",
              "    </tr>\n",
              "    <tr>\n",
              "      <th>6</th>\n",
              "      <td>A4 Children 12-17</td>\n",
              "      <td>MHS</td>\n",
              "      <td>27804764.0</td>\n",
              "    </tr>\n",
              "    <tr>\n",
              "      <th>7</th>\n",
              "      <td>A4 Children 12-17</td>\n",
              "      <td>SMHS</td>\n",
              "      <td>27774138.0</td>\n",
              "    </tr>\n",
              "    <tr>\n",
              "      <th>8</th>\n",
              "      <td>A5 Youth 18-20</td>\n",
              "      <td>MHS</td>\n",
              "      <td>12043406.0</td>\n",
              "    </tr>\n",
              "    <tr>\n",
              "      <th>9</th>\n",
              "      <td>A5 Youth 18-20</td>\n",
              "      <td>SMHS</td>\n",
              "      <td>11969395.0</td>\n",
              "    </tr>\n",
              "  </tbody>\n",
              "</table>\n",
              "</div>\n",
              "      <button class=\"colab-df-convert\" onclick=\"convertToInteractive('df-07c02ce2-cf71-4dc0-810b-c6028ead3dae')\"\n",
              "              title=\"Convert this dataframe to an interactive table.\"\n",
              "              style=\"display:none;\">\n",
              "        \n",
              "  <svg xmlns=\"http://www.w3.org/2000/svg\" height=\"24px\"viewBox=\"0 0 24 24\"\n",
              "       width=\"24px\">\n",
              "    <path d=\"M0 0h24v24H0V0z\" fill=\"none\"/>\n",
              "    <path d=\"M18.56 5.44l.94 2.06.94-2.06 2.06-.94-2.06-.94-.94-2.06-.94 2.06-2.06.94zm-11 1L8.5 8.5l.94-2.06 2.06-.94-2.06-.94L8.5 2.5l-.94 2.06-2.06.94zm10 10l.94 2.06.94-2.06 2.06-.94-2.06-.94-.94-2.06-.94 2.06-2.06.94z\"/><path d=\"M17.41 7.96l-1.37-1.37c-.4-.4-.92-.59-1.43-.59-.52 0-1.04.2-1.43.59L10.3 9.45l-7.72 7.72c-.78.78-.78 2.05 0 2.83L4 21.41c.39.39.9.59 1.41.59.51 0 1.02-.2 1.41-.59l7.78-7.78 2.81-2.81c.8-.78.8-2.07 0-2.86zM5.41 20L4 18.59l7.72-7.72 1.47 1.35L5.41 20z\"/>\n",
              "  </svg>\n",
              "      </button>\n",
              "      \n",
              "  <style>\n",
              "    .colab-df-container {\n",
              "      display:flex;\n",
              "      flex-wrap:wrap;\n",
              "      gap: 12px;\n",
              "    }\n",
              "\n",
              "    .colab-df-convert {\n",
              "      background-color: #E8F0FE;\n",
              "      border: none;\n",
              "      border-radius: 50%;\n",
              "      cursor: pointer;\n",
              "      display: none;\n",
              "      fill: #1967D2;\n",
              "      height: 32px;\n",
              "      padding: 0 0 0 0;\n",
              "      width: 32px;\n",
              "    }\n",
              "\n",
              "    .colab-df-convert:hover {\n",
              "      background-color: #E2EBFA;\n",
              "      box-shadow: 0px 1px 2px rgba(60, 64, 67, 0.3), 0px 1px 3px 1px rgba(60, 64, 67, 0.15);\n",
              "      fill: #174EA6;\n",
              "    }\n",
              "\n",
              "    [theme=dark] .colab-df-convert {\n",
              "      background-color: #3B4455;\n",
              "      fill: #D2E3FC;\n",
              "    }\n",
              "\n",
              "    [theme=dark] .colab-df-convert:hover {\n",
              "      background-color: #434B5C;\n",
              "      box-shadow: 0px 1px 3px 1px rgba(0, 0, 0, 0.15);\n",
              "      filter: drop-shadow(0px 1px 2px rgba(0, 0, 0, 0.3));\n",
              "      fill: #FFFFFF;\n",
              "    }\n",
              "  </style>\n",
              "\n",
              "      <script>\n",
              "        const buttonEl =\n",
              "          document.querySelector('#df-07c02ce2-cf71-4dc0-810b-c6028ead3dae button.colab-df-convert');\n",
              "        buttonEl.style.display =\n",
              "          google.colab.kernel.accessAllowed ? 'block' : 'none';\n",
              "\n",
              "        async function convertToInteractive(key) {\n",
              "          const element = document.querySelector('#df-07c02ce2-cf71-4dc0-810b-c6028ead3dae');\n",
              "          const dataTable =\n",
              "            await google.colab.kernel.invokeFunction('convertToInteractive',\n",
              "                                                     [key], {});\n",
              "          if (!dataTable) return;\n",
              "\n",
              "          const docLinkHtml = 'Like what you see? Visit the ' +\n",
              "            '<a target=\"_blank\" href=https://colab.research.google.com/notebooks/data_table.ipynb>data table notebook</a>'\n",
              "            + ' to learn more about interactive tables.';\n",
              "          element.innerHTML = '';\n",
              "          dataTable['output_type'] = 'display_data';\n",
              "          await google.colab.output.renderOutput(dataTable, element);\n",
              "          const docLink = document.createElement('div');\n",
              "          docLink.innerHTML = docLinkHtml;\n",
              "          element.appendChild(docLink);\n",
              "        }\n",
              "      </script>\n",
              "    </div>\n",
              "  </div>\n",
              "  "
            ]
          },
          "metadata": {},
          "execution_count": 146
        }
      ]
    },
    {
      "cell_type": "code",
      "source": [
        "df_age.plot.bar(rot=45,figsize=(15,8))"
      ],
      "metadata": {
        "colab": {
          "base_uri": "https://localhost:8080/",
          "height": 617
        },
        "id": "qleKTWBKl6h4",
        "outputId": "2c5d0ae3-ddba-42fc-d375-8b7f9ac357f3"
      },
      "execution_count": null,
      "outputs": [
        {
          "output_type": "execute_result",
          "data": {
            "text/plain": [
              "<matplotlib.axes._subplots.AxesSubplot at 0x7f6c5b326410>"
            ]
          },
          "metadata": {},
          "execution_count": 145
        },
        {
          "output_type": "display_data",
          "data": {
            "text/plain": [
              "<Figure size 1080x576 with 1 Axes>"
            ],
            "image/png": "[encoded data removed]"
          },
          "metadata": {
            "needs_background": "light"
          }
        }
      ]
    },
    {
      "cell_type": "code",
      "source": [
        "df_age_diff = df_age.groupby(['AGE_GRP'])['TOTAL_CT'].diff().dropna()\n",
        "#df_age['COUNT_DIFF'] = df_age_diff\n",
        "df_age_diff = df_age_diff.abs()"
      ],
      "metadata": {
        "id": "AoyOmShUtbz0"
      },
      "execution_count": null,
      "outputs": []
    },
    {
      "cell_type": "code",
      "source": [
        "df_age_diff.plot.barh()"
      ],
      "metadata": {
        "colab": {
          "base_uri": "https://localhost:8080/",
          "height": 282
        },
        "id": "4DeSmdqLvEIZ",
        "outputId": "02fdecbd-7c16-404f-8ddc-a493352ace1e"
      },
      "execution_count": null,
      "outputs": [
        {
          "output_type": "execute_result",
          "data": {
            "text/plain": [
              "<matplotlib.axes._subplots.AxesSubplot at 0x7f6c5b0cb1d0>"
            ]
          },
          "metadata": {},
          "execution_count": 169
        },
        {
          "output_type": "display_data",
          "data": {
            "text/plain": [
              "<Figure size 432x288 with 1 Axes>"
            ],
            "image/png": "[encoded data removed]"
          },
          "metadata": {
            "needs_background": "light"
          }
        }
      ]
    },
    {
      "cell_type": "markdown",
      "source": [
        "Similarities between sets...\n",
        "- FISCAL_YEAR\n",
        "- MHS_TYPE\n"
      ],
      "metadata": {
        "id": "qE2k8dmnyA3B"
      }
    }
  ]
}