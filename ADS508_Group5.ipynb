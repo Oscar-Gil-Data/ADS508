{
  "nbformat": 4,
  "nbformat_minor": 0,
  "metadata": {
    "colab": {
      "name": "ADS508-Group5.ipynb",
      "provenance": [],
      "authorship_tag": "ABX9TyPmc257gC9BjG4AqYXYUDWH",
      "include_colab_link": true
    },
    "kernelspec": {
      "name": "python3",
      "display_name": "Python 3"
    },
    "language_info": {
      "name": "python"
    }
  },
  "cells": [
    {
      "cell_type": "markdown",
      "metadata": {
        "id": "view-in-github",
        "colab_type": "text"
      },
      "source": [
        "<a href=\"https://colab.research.google.com/github/OscarG-DataSci/ADS508/blob/main/ADS508_Group5.ipynb\" target=\"_parent\"><img src=\"https://colab.research.google.com/assets/colab-badge.svg\" alt=\"Open In Colab\"/></a>"
      ]
    },
    {
      "cell_type": "code",
      "execution_count": 1,
      "metadata": {
        "id": "oIGKSbh9ZDca"
      },
      "outputs": [],
      "source": [
        "import pandas as pd"
      ]
    },
    {
      "cell_type": "code",
      "source": [
        "url1 = \"https://data.chhs.ca.gov/dataset/8eb607d8-5876-4ee0-a681-c6a03cee4de5/resource/9b4b7b99-96de-4cca-b8ad-992f38f60697/download/cyouth_util_age_20210328.csv\"\n",
        "url2 = \"https://data.chhs.ca.gov/dataset/8eb607d8-5876-4ee0-a681-c6a03cee4de5/resource/1b8821d7-cd56-4fcf-8b15-3cf5d66bdba7/download/cyouth_demo_race_20210328.csv\"\n",
        "url3 = \"https://data.chhs.ca.gov/dataset/8eb607d8-5876-4ee0-a681-c6a03cee4de5/resource/80447662-f12e-44f7-a31c-5768e6917f2e/download/cyouth_dx_age_20210328.csv\""
      ],
      "metadata": {
        "id": "4Ift7xcKZJL8"
      },
      "execution_count": 2,
      "outputs": []
    },
    {
      "cell_type": "code",
      "source": [
        "util = pd.read_csv(url1)\n",
        "demo = pd.read_csv(url2)\n",
        "age  = pd.read_csv(url3)"
      ],
      "metadata": {
        "colab": {
          "base_uri": "https://localhost:8080/"
        },
        "id": "OXELeukwZLAn",
        "outputId": "9ffa3bde-b08f-4cf9-a508-c97ae8b584d6"
      },
      "execution_count": 3,
      "outputs": [
        {
          "output_type": "stream",
          "name": "stderr",
          "text": [
            "/usr/local/lib/python3.7/dist-packages/IPython/core/interactiveshell.py:2882: DtypeWarning: Columns (0) have mixed types.Specify dtype option on import or set low_memory=False.\n",
            "  exec(code_obj, self.user_global_ns, self.user_ns)\n"
          ]
        }
      ]
    }
  ]
}